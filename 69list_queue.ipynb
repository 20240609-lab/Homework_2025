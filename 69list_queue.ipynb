{
  "nbformat": 4,
  "nbformat_minor": 0,
  "metadata": {
    "colab": {
      "provenance": [],
      "authorship_tag": "ABX9TyNCWA2mnXuLpsnBwAvw4aUX",
      "include_colab_link": true
    },
    "kernelspec": {
      "name": "python3",
      "display_name": "Python 3"
    },
    "language_info": {
      "name": "python"
    }
  },
  "cells": [
    {
      "cell_type": "markdown",
      "metadata": {
        "id": "view-in-github",
        "colab_type": "text"
      },
      "source": [
        "<a href=\"https://colab.research.google.com/github/20240609-lab/Homework_2025/blob/main/69list_queue.ipynb\" target=\"_parent\"><img src=\"https://colab.research.google.com/assets/colab-badge.svg\" alt=\"Open In Colab\"/></a>"
      ]
    },
    {
      "cell_type": "code",
      "source": [
        "import collections\n",
        "myqueue = collections.deque([])"
      ],
      "metadata": {
        "id": "d4y60mc0BXzA"
      },
      "execution_count": 86,
      "outputs": []
    },
    {
      "cell_type": "code",
      "source": [
        "def putData(data):\n",
        "  myqueue.append(data)"
      ],
      "metadata": {
        "id": "_a9FEjs0BeW3"
      },
      "execution_count": 87,
      "outputs": []
    },
    {
      "cell_type": "code",
      "source": [
        "def popData():\n",
        "  if len(myqueue) == 0:\n",
        "    return None\n",
        "  return myqueue.popleft()"
      ],
      "metadata": {
        "id": "SDpnVEGBBiIz"
      },
      "execution_count": 88,
      "outputs": []
    },
    {
      "cell_type": "code",
      "source": [
        "putData('사과')\n",
        "putData([1,2,3])\n",
        "putData(3.141592)\n",
        "print(f'큐상태:{myqueue}')"
      ],
      "metadata": {
        "colab": {
          "base_uri": "https://localhost:8080/"
        },
        "id": "3qkxiIx1BpgK",
        "outputId": "2df82d7b-0c14-4be9-fae8-a10c187ead89"
      },
      "execution_count": 89,
      "outputs": [
        {
          "output_type": "stream",
          "name": "stdout",
          "text": [
            "큐상태:deque(['사과', [1, 2, 3], 3.141592])\n"
          ]
        }
      ]
    },
    {
      "cell_type": "code",
      "source": [
        "ret = popData()\n",
        "while ret != None:\n",
        "  print(f'큐에서 데이터 추출 : {ret}')\n",
        "  print(f'큐 상태 : {myqueue}')\n",
        "  print('-------------------')\n",
        "  ret = popData()"
      ],
      "metadata": {
        "colab": {
          "base_uri": "https://localhost:8080/"
        },
        "id": "zMQUFWp_Bx8q",
        "outputId": "6765b346-5a1f-4f36-9740-849d8ca4907d"
      },
      "execution_count": 90,
      "outputs": [
        {
          "output_type": "stream",
          "name": "stdout",
          "text": [
            "큐에서 데이터 추출 : 사과\n",
            "큐 상태 : deque([[1, 2, 3], 3.141592])\n",
            "-------------------\n",
            "큐에서 데이터 추출 : [1, 2, 3]\n",
            "큐 상태 : deque([3.141592])\n",
            "-------------------\n",
            "큐에서 데이터 추출 : 3.141592\n",
            "큐 상태 : deque([])\n",
            "-------------------\n"
          ]
        }
      ]
    }
  ]
}