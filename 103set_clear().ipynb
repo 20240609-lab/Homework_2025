{
  "nbformat": 4,
  "nbformat_minor": 0,
  "metadata": {
    "colab": {
      "provenance": [],
      "authorship_tag": "ABX9TyMos/kQbK8E/nY3AjTYOPKk",
      "include_colab_link": true
    },
    "kernelspec": {
      "name": "python3",
      "display_name": "Python 3"
    },
    "language_info": {
      "name": "python"
    }
  },
  "cells": [
    {
      "cell_type": "markdown",
      "metadata": {
        "id": "view-in-github",
        "colab_type": "text"
      },
      "source": [
        "<a href=\"https://colab.research.google.com/github/20240609-lab/Homework_2025/blob/main/103set_clear().ipynb\" target=\"_parent\"><img src=\"https://colab.research.google.com/assets/colab-badge.svg\" alt=\"Open In Colab\"/></a>"
      ]
    },
    {
      "cell_type": "code",
      "source": [
        "set1 = set('abradacabra')\n",
        "set2 = set('arirangsong')\n",
        "set1 &= set2\n",
        "set2.clear()\n",
        "print(f'set1={set1}, set2={set2}')"
      ],
      "metadata": {
        "colab": {
          "base_uri": "https://localhost:8080/"
        },
        "id": "AGhFGxRpykvr",
        "outputId": "d986b5a3-eb50-4cdc-9d1b-7dccd6193b56"
      },
      "execution_count": 43,
      "outputs": [
        {
          "output_type": "stream",
          "name": "stdout",
          "text": [
            "set1={'a', 'r'}, set2=set()\n"
          ]
        }
      ]
    }
  ]
}