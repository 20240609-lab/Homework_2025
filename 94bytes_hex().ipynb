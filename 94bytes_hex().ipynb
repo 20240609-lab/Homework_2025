{
  "nbformat": 4,
  "nbformat_minor": 0,
  "metadata": {
    "colab": {
      "provenance": [],
      "authorship_tag": "ABX9TyNNKJ5PiUu3tgOPlXMiOxEC",
      "include_colab_link": true
    },
    "kernelspec": {
      "name": "python3",
      "display_name": "Python 3"
    },
    "language_info": {
      "name": "python"
    }
  },
  "cells": [
    {
      "cell_type": "markdown",
      "metadata": {
        "id": "view-in-github",
        "colab_type": "text"
      },
      "source": [
        "<a href=\"https://colab.research.google.com/github/20240609-lab/Homework_2025/blob/main/94bytes_hex().ipynb\" target=\"_parent\"><img src=\"https://colab.research.google.com/assets/colab-badge.svg\" alt=\"Open In Colab\"/></a>"
      ]
    },
    {
      "cell_type": "code",
      "source": [
        "hexData = b'Python\\xf8\\xfa'.hex()\n",
        "print(hexData)"
      ],
      "metadata": {
        "colab": {
          "base_uri": "https://localhost:8080/"
        },
        "id": "jfNlJ0Rys-Pn",
        "outputId": "cdac57d1-de48-479b-8a14-fb1eb0e0b755"
      },
      "execution_count": 2,
      "outputs": [
        {
          "output_type": "stream",
          "name": "stdout",
          "text": [
            "507974686f6ef8fa\n"
          ]
        }
      ]
    },
    {
      "cell_type": "code",
      "source": [
        "hexData = b'Python\\xf8\\xfa\\x80'.hex('-')\n",
        "print(hexData)"
      ],
      "metadata": {
        "colab": {
          "base_uri": "https://localhost:8080/"
        },
        "id": "_iwlHciBtHTf",
        "outputId": "bea83b5d-7439-4b4a-ed38-fb9ecdd3bac0"
      },
      "execution_count": 5,
      "outputs": [
        {
          "output_type": "stream",
          "name": "stdout",
          "text": [
            "50-79-74-68-6f-6e-f8-fa-80\n"
          ]
        }
      ]
    },
    {
      "cell_type": "code",
      "source": [
        "hexData = b'Python\\xf8\\xfa\\x80'.hex('-',2)\n",
        "print(hexData)"
      ],
      "metadata": {
        "colab": {
          "base_uri": "https://localhost:8080/"
        },
        "id": "Q0DAfHXTtXKU",
        "outputId": "ed8790d3-4aa2-4eb3-8dea-5e5377bd62da"
      },
      "execution_count": 6,
      "outputs": [
        {
          "output_type": "stream",
          "name": "stdout",
          "text": [
            "50-7974-686f-6ef8-fa80\n"
          ]
        }
      ]
    }
  ]
}