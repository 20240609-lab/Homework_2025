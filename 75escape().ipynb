{
  "nbformat": 4,
  "nbformat_minor": 0,
  "metadata": {
    "colab": {
      "provenance": [],
      "authorship_tag": "ABX9TyOoY8UAHLHzkf5YrZCFR902",
      "include_colab_link": true
    },
    "kernelspec": {
      "name": "python3",
      "display_name": "Python 3"
    },
    "language_info": {
      "name": "python"
    }
  },
  "cells": [
    {
      "cell_type": "markdown",
      "metadata": {
        "id": "view-in-github",
        "colab_type": "text"
      },
      "source": [
        "<a href=\"https://colab.research.google.com/github/20240609-lab/Homework_2025/blob/main/75escape().ipynb\" target=\"_parent\"><img src=\"https://colab.research.google.com/assets/colab-badge.svg\" alt=\"Open In Colab\"/></a>"
      ]
    },
    {
      "cell_type": "code",
      "source": [
        "print('파이썬은 자바보다 쉽습니다. \\n그래서 나는 파이썬을 사랑합니다.')"
      ],
      "metadata": {
        "colab": {
          "base_uri": "https://localhost:8080/"
        },
        "id": "fBYDvSTgAd9L",
        "outputId": "1d4c7c88-e4a2-4c85-d368-2d53a3884021"
      },
      "execution_count": 21,
      "outputs": [
        {
          "output_type": "stream",
          "name": "stdout",
          "text": [
            "파이썬은 자바보다 쉽습니다. \n",
            "그래서 나는 파이썬을 사랑합니다.\n"
          ]
        }
      ]
    },
    {
      "cell_type": "code",
      "source": [
        "text = '파이썬은 자바보다 쉽습니다.\\<엔터키>\n",
        "그래서 나는 파이썬을 사랑합니다.'\n",
        "print(text)"
      ],
      "metadata": {
        "colab": {
          "base_uri": "https://localhost:8080/"
        },
        "id": "AZ99DgjHAlFi",
        "outputId": "5a6d2e5f-7927-494d-dd0c-142d39f6cd88"
      },
      "execution_count": 22,
      "outputs": [
        {
          "output_type": "stream",
          "name": "stdout",
          "text": [
            "파이썬은 자바보다 쉽습니다.\\<엔터키>그래서 나는 파이썬을 사랑합니다.\n"
          ]
        },
        {
          "output_type": "stream",
          "name": "stderr",
          "text": [
            "<>:1: SyntaxWarning: invalid escape sequence '\\<'\n",
            "<>:1: SyntaxWarning: invalid escape sequence '\\<'\n",
            "/tmp/ipython-input-2069994010.py:1: SyntaxWarning: invalid escape sequence '\\<'\n",
            "  text = '파이썬은 자바보다 쉽습니다.\\<엔터키>그래서 나는 파이썬을 사랑합니다.'\n"
          ]
        }
      ]
    },
    {
      "cell_type": "code",
      "source": [
        "print('이스켕프 문자 \"\\\\t\"는 탭을 의미합니다.')"
      ],
      "metadata": {
        "colab": {
          "base_uri": "https://localhost:8080/"
        },
        "id": "oEZEfgdaAw_p",
        "outputId": "4d86be7c-c20e-4b01-dbfa-a8dd8c28c342"
      },
      "execution_count": 23,
      "outputs": [
        {
          "output_type": "stream",
          "name": "stdout",
          "text": [
            "이스켕프 문자 \"\\t\"는 탭을 의미합니다.\n"
          ]
        }
      ]
    },
    {
      "cell_type": "code",
      "source": [
        "print('\\'파이썬\\'은 뱀의 한 종류입니다.')"
      ],
      "metadata": {
        "colab": {
          "base_uri": "https://localhost:8080/"
        },
        "id": "b3lv1I-gA5dv",
        "outputId": "c20a9323-c5a9-4772-8551-7e17b935295a"
      },
      "execution_count": 24,
      "outputs": [
        {
          "output_type": "stream",
          "name": "stdout",
          "text": [
            "'파이썬'은 뱀의 한 종류입니다.\n"
          ]
        }
      ]
    }
  ]
}