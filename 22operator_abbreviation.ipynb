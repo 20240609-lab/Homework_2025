{
  "nbformat": 4,
  "nbformat_minor": 0,
  "metadata": {
    "colab": {
      "provenance": [],
      "authorship_tag": "ABX9TyN+5P+PkIAY95ZLu31bXcG5",
      "include_colab_link": true
    },
    "kernelspec": {
      "name": "python3",
      "display_name": "Python 3"
    },
    "language_info": {
      "name": "python"
    }
  },
  "cells": [
    {
      "cell_type": "markdown",
      "metadata": {
        "id": "view-in-github",
        "colab_type": "text"
      },
      "source": [
        "<a href=\"https://colab.research.google.com/github/20240609-lab/Homework_2025/blob/main/22operator_abbreviation.ipynb\" target=\"_parent\"><img src=\"https://colab.research.google.com/assets/colab-badge.svg\" alt=\"Open In Colab\"/></a>"
      ]
    },
    {
      "cell_type": "code",
      "execution_count": 18,
      "metadata": {
        "colab": {
          "base_uri": "https://localhost:8080/"
        },
        "id": "o_L-yGzpgvWL",
        "outputId": "49ab7e3a-dcfe-4bd9-9bc6-7b2111acb752"
      },
      "outputs": [
        {
          "output_type": "stream",
          "name": "stdout",
          "text": [
            "13.0\n"
          ]
        }
      ],
      "source": [
        "a = a + 1\n",
        "a += 1 #a에서 1을 더한 결과를 a에 할당\n",
        "a -= 1 #a에서 1을 뺀 결과를 a에 할당\n",
        "a *= 2 #a에서 2를 곱한 결과를 a에 할당\n",
        "a /= 2 #a에서 2를 나눈 결과를 a에 할당\n",
        "\n",
        "print(a)"
      ]
    }
  ]
}