{
  "nbformat": 4,
  "nbformat_minor": 0,
  "metadata": {
    "colab": {
      "provenance": [],
      "authorship_tag": "ABX9TyM01qOHd4J8oXr+DY0XCis/",
      "include_colab_link": true
    },
    "kernelspec": {
      "name": "python3",
      "display_name": "Python 3"
    },
    "language_info": {
      "name": "python"
    }
  },
  "cells": [
    {
      "cell_type": "markdown",
      "metadata": {
        "id": "view-in-github",
        "colab_type": "text"
      },
      "source": [
        "<a href=\"https://colab.research.google.com/github/20240609-lab/Homework_2025/blob/main/63list_append().ipynb\" target=\"_parent\"><img src=\"https://colab.research.google.com/assets/colab-badge.svg\" alt=\"Open In Colab\"/></a>"
      ]
    },
    {
      "cell_type": "code",
      "source": [
        "fileList = []\n",
        "for i in range(3):\n",
        "  fname = input(f'파일 이름을 입력하세요[{i+1}/3]:')\n",
        "  if fname not in fileList:\n",
        "    fileList.append(fname)\n",
        "  print(f'현재 저장된 파일들: {fileList}')"
      ],
      "metadata": {
        "colab": {
          "base_uri": "https://localhost:8080/"
        },
        "id": "gzZJCYir9_fQ",
        "outputId": "32b361cd-737d-47d0-9c91-670c4b9c6a83"
      },
      "execution_count": 67,
      "outputs": [
        {
          "output_type": "stream",
          "name": "stdout",
          "text": [
            "파일 이름을 입력하세요[1/3]:a.jpg\n",
            "현재 저장된 파일들: ['a.jpg']\n",
            "파일 이름을 입력하세요[2/3]:b.jpg\n",
            "현재 저장된 파일들: ['a.jpg', 'b.jpg']\n",
            "파일 이름을 입력하세요[3/3]:b.jpg\n",
            "현재 저장된 파일들: ['a.jpg', 'b.jpg']\n"
          ]
        }
      ]
    }
  ]
}