{
  "nbformat": 4,
  "nbformat_minor": 0,
  "metadata": {
    "colab": {
      "provenance": [],
      "authorship_tag": "ABX9TyP0a6fOSkoelbJDrQFuZBtV",
      "include_colab_link": true
    },
    "kernelspec": {
      "name": "python3",
      "display_name": "Python 3"
    },
    "language_info": {
      "name": "python"
    }
  },
  "cells": [
    {
      "cell_type": "markdown",
      "metadata": {
        "id": "view-in-github",
        "colab_type": "text"
      },
      "source": [
        "<a href=\"https://colab.research.google.com/github/20240609-lab/Homework_2025/blob/main/95bytes_decode().ipynb\" target=\"_parent\"><img src=\"https://colab.research.google.com/assets/colab-badge.svg\" alt=\"Open In Colab\"/></a>"
      ]
    },
    {
      "cell_type": "code",
      "source": [
        "bytesData = b'\\xec\\x82\\xac\\xeb\\x9e\\x91\\xed\\x95\\xb4\\xec\\x9a\\x94'\n",
        "strData = bytesData.decode()\n",
        "print(strData)"
      ],
      "metadata": {
        "colab": {
          "base_uri": "https://localhost:8080/"
        },
        "id": "o2e3kiqFt9vz",
        "outputId": "cf948efd-0263-47c0-8795-0879aec33adb"
      },
      "execution_count": 8,
      "outputs": [
        {
          "output_type": "stream",
          "name": "stdout",
          "text": [
            "사랑해요\n"
          ]
        }
      ]
    },
    {
      "cell_type": "code",
      "source": [
        "bytesData = b'\\xbb\\xe7\\xb6\\xfb\\xc7\\xd8\\xbf\\xe4'\n",
        "strData = bytesData.decode()\n",
        "print(strData)"
      ],
      "metadata": {
        "colab": {
          "base_uri": "https://localhost:8080/",
          "height": 182
        },
        "id": "WxJi-QZFuRVb",
        "outputId": "ddfdabdd-d1b2-4663-a942-b49d1b201d68"
      },
      "execution_count": 9,
      "outputs": [
        {
          "output_type": "error",
          "ename": "UnicodeDecodeError",
          "evalue": "'utf-8' codec can't decode byte 0xbb in position 0: invalid start byte",
          "traceback": [
            "\u001b[0;31m---------------------------------------------------------------------------\u001b[0m",
            "\u001b[0;31mUnicodeDecodeError\u001b[0m                        Traceback (most recent call last)",
            "\u001b[0;32m/tmp/ipython-input-3134233956.py\u001b[0m in \u001b[0;36m<cell line: 0>\u001b[0;34m()\u001b[0m\n\u001b[1;32m      1\u001b[0m \u001b[0mbytesData\u001b[0m \u001b[0;34m=\u001b[0m \u001b[0;34mb'\\xbb\\xe7\\xb6\\xfb\\xc7\\xd8\\xbf\\xe4'\u001b[0m\u001b[0;34m\u001b[0m\u001b[0;34m\u001b[0m\u001b[0m\n\u001b[0;32m----> 2\u001b[0;31m \u001b[0mstrData\u001b[0m \u001b[0;34m=\u001b[0m \u001b[0mbytesData\u001b[0m\u001b[0;34m.\u001b[0m\u001b[0mdecode\u001b[0m\u001b[0;34m(\u001b[0m\u001b[0;34m)\u001b[0m\u001b[0;34m\u001b[0m\u001b[0;34m\u001b[0m\u001b[0m\n\u001b[0m\u001b[1;32m      3\u001b[0m \u001b[0mprint\u001b[0m\u001b[0;34m(\u001b[0m\u001b[0mstrData\u001b[0m\u001b[0;34m)\u001b[0m\u001b[0;34m\u001b[0m\u001b[0;34m\u001b[0m\u001b[0m\n",
            "\u001b[0;31mUnicodeDecodeError\u001b[0m: 'utf-8' codec can't decode byte 0xbb in position 0: invalid start byte"
          ]
        }
      ]
    },
    {
      "cell_type": "code",
      "source": [
        "bytesData = b'\\xbb\\xe7\\xb6\\xfb\\xc7\\xd8\\xbf\\xe4'\n",
        "strData = bytesData.decode('cp949')\n",
        "print(strData)"
      ],
      "metadata": {
        "colab": {
          "base_uri": "https://localhost:8080/"
        },
        "id": "6YzEos6funrt",
        "outputId": "9381945a-0efe-4b6f-c8ed-9870873d4d10"
      },
      "execution_count": 11,
      "outputs": [
        {
          "output_type": "stream",
          "name": "stdout",
          "text": [
            "사랑해요\n"
          ]
        }
      ]
    }
  ]
}