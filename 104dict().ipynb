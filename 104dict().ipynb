{
  "nbformat": 4,
  "nbformat_minor": 0,
  "metadata": {
    "colab": {
      "provenance": [],
      "authorship_tag": "ABX9TyOKiTKY8cBPuIFoonZiihxE",
      "include_colab_link": true
    },
    "kernelspec": {
      "name": "python3",
      "display_name": "Python 3"
    },
    "language_info": {
      "name": "python"
    }
  },
  "cells": [
    {
      "cell_type": "markdown",
      "metadata": {
        "id": "view-in-github",
        "colab_type": "text"
      },
      "source": [
        "<a href=\"https://colab.research.google.com/github/20240609-lab/Homework_2025/blob/main/104dict().ipynb\" target=\"_parent\"><img src=\"https://colab.research.google.com/assets/colab-badge.svg\" alt=\"Open In Colab\"/></a>"
      ]
    },
    {
      "cell_type": "code",
      "source": [
        "population = {'서울':9407540,'부산':3320276,'인천':2964820}"
      ],
      "metadata": {
        "id": "yUHvkv4ry21s"
      },
      "execution_count": 44,
      "outputs": []
    },
    {
      "cell_type": "code",
      "source": [
        "population = dict(서울=9407540,부산=3320276,인천=2964820)\n",
        "print(population)"
      ],
      "metadata": {
        "colab": {
          "base_uri": "https://localhost:8080/"
        },
        "id": "wJV21W-CzCIW",
        "outputId": "8e10442d-dc15-4396-8284-ad75ca771b4d"
      },
      "execution_count": 45,
      "outputs": [
        {
          "output_type": "stream",
          "name": "stdout",
          "text": [
            "{'서울': 9407540, '부산': 3320276, '인천': 2964820}\n"
          ]
        }
      ]
    },
    {
      "cell_type": "code",
      "source": [
        "population = dict([('서울',407540),('부산',3320276),('인천',2964820)])\n",
        "print(population)"
      ],
      "metadata": {
        "colab": {
          "base_uri": "https://localhost:8080/"
        },
        "id": "vb0PXko4zKAO",
        "outputId": "b14ac307-4784-4256-9653-f9307b04e578"
      },
      "execution_count": 46,
      "outputs": [
        {
          "output_type": "stream",
          "name": "stdout",
          "text": [
            "{'서울': 407540, '부산': 3320276, '인천': 2964820}\n"
          ]
        }
      ]
    }
  ]
}