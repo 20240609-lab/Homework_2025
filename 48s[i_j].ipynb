{
  "nbformat": 4,
  "nbformat_minor": 0,
  "metadata": {
    "colab": {
      "provenance": [],
      "authorship_tag": "ABX9TyP8XYFRAiLK1ITQIroW0zor",
      "include_colab_link": true
    },
    "kernelspec": {
      "name": "python3",
      "display_name": "Python 3"
    },
    "language_info": {
      "name": "python"
    }
  },
  "cells": [
    {
      "cell_type": "markdown",
      "metadata": {
        "id": "view-in-github",
        "colab_type": "text"
      },
      "source": [
        "<a href=\"https://colab.research.google.com/github/20240609-lab/Homework_2025/blob/main/48s%5Bi_j%5D.ipynb\" target=\"_parent\"><img src=\"https://colab.research.google.com/assets/colab-badge.svg\" alt=\"Open In Colab\"/></a>"
      ]
    },
    {
      "cell_type": "code",
      "source": [
        "wise_saying = \"Time is money! Don't waste your time!\"\n",
        "print(wise_saying[6:10])"
      ],
      "metadata": {
        "colab": {
          "base_uri": "https://localhost:8080/"
        },
        "id": "06jsvnRfQ9_F",
        "outputId": "1d590bda-f04f-4168-ec3d-1e3dd1a0a471"
      },
      "execution_count": 48,
      "outputs": [
        {
          "output_type": "stream",
          "name": "stdout",
          "text": [
            "s mo\n"
          ]
        }
      ]
    },
    {
      "cell_type": "code",
      "source": [
        "print(wise_saying[:5])"
      ],
      "metadata": {
        "colab": {
          "base_uri": "https://localhost:8080/"
        },
        "id": "ne2ln0xBRHx2",
        "outputId": "a04cbcd6-46cb-479a-da36-7239e05bafc7"
      },
      "execution_count": 49,
      "outputs": [
        {
          "output_type": "stream",
          "name": "stdout",
          "text": [
            "Time \n"
          ]
        }
      ]
    },
    {
      "cell_type": "code",
      "source": [
        "print(wise_saying[15:])"
      ],
      "metadata": {
        "colab": {
          "base_uri": "https://localhost:8080/"
        },
        "id": "JF_d2AaPRKct",
        "outputId": "a5d55bfd-343f-437b-c638-648d301e459d"
      },
      "execution_count": 50,
      "outputs": [
        {
          "output_type": "stream",
          "name": "stdout",
          "text": [
            "Don't waste your time!\n"
          ]
        }
      ]
    },
    {
      "cell_type": "code",
      "source": [
        "print(wise_saying[:-1])"
      ],
      "metadata": {
        "colab": {
          "base_uri": "https://localhost:8080/"
        },
        "id": "viN8c3VjRNTO",
        "outputId": "632e9de0-6ed2-4c44-e81c-8ee977adb6e4"
      },
      "execution_count": 51,
      "outputs": [
        {
          "output_type": "stream",
          "name": "stdout",
          "text": [
            "Time is money! Don't waste your time\n"
          ]
        }
      ]
    },
    {
      "cell_type": "code",
      "source": [
        "print(wise_saying[-5:])"
      ],
      "metadata": {
        "colab": {
          "base_uri": "https://localhost:8080/"
        },
        "id": "IUgr3DPyRQJW",
        "outputId": "2e350341-d6bf-4410-99d2-0cd56f2cd903"
      },
      "execution_count": 52,
      "outputs": [
        {
          "output_type": "stream",
          "name": "stdout",
          "text": [
            "time!\n"
          ]
        }
      ]
    },
    {
      "cell_type": "code",
      "source": [
        "print(wise_saying[:])"
      ],
      "metadata": {
        "colab": {
          "base_uri": "https://localhost:8080/"
        },
        "id": "lodAXeYZRTyt",
        "outputId": "7c000f93-bce0-4c69-890a-fadc3cc9a1cf"
      },
      "execution_count": 53,
      "outputs": [
        {
          "output_type": "stream",
          "name": "stdout",
          "text": [
            "Time is money! Don't waste your time!\n"
          ]
        }
      ]
    },
    {
      "cell_type": "code",
      "source": [
        "intList = [0,1,2,3,4,5,6,7,8,9]\n",
        "print(intList[::2])"
      ],
      "metadata": {
        "colab": {
          "base_uri": "https://localhost:8080/"
        },
        "id": "_g69-lnARWA2",
        "outputId": "cf9076f2-e48a-4662-8e90-857577c02f01"
      },
      "execution_count": 54,
      "outputs": [
        {
          "output_type": "stream",
          "name": "stdout",
          "text": [
            "[0, 2, 4, 6, 8]\n"
          ]
        }
      ]
    },
    {
      "cell_type": "code",
      "source": [
        "print(intList[1::2])"
      ],
      "metadata": {
        "colab": {
          "base_uri": "https://localhost:8080/"
        },
        "id": "65tkjuVMRal3",
        "outputId": "1cac02af-5e09-474f-da4b-549c43399d7b"
      },
      "execution_count": 55,
      "outputs": [
        {
          "output_type": "stream",
          "name": "stdout",
          "text": [
            "[1, 3, 5, 7, 9]\n"
          ]
        }
      ]
    }
  ]
}