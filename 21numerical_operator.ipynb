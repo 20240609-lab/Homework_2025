{
  "nbformat": 4,
  "nbformat_minor": 0,
  "metadata": {
    "colab": {
      "provenance": [],
      "authorship_tag": "ABX9TyM3y5xqssrVDNJmSe5rfdNQ",
      "include_colab_link": true
    },
    "kernelspec": {
      "name": "python3",
      "display_name": "Python 3"
    },
    "language_info": {
      "name": "python"
    }
  },
  "cells": [
    {
      "cell_type": "markdown",
      "metadata": {
        "id": "view-in-github",
        "colab_type": "text"
      },
      "source": [
        "<a href=\"https://colab.research.google.com/github/20240609-lab/Homework_2025/blob/main/21numerical_operator.ipynb\" target=\"_parent\"><img src=\"https://colab.research.google.com/assets/colab-badge.svg\" alt=\"Open In Colab\"/></a>"
      ]
    },
    {
      "cell_type": "code",
      "execution_count": 1,
      "metadata": {
        "colab": {
          "base_uri": "https://localhost:8080/"
        },
        "id": "F3J7DNnWgXKl",
        "outputId": "5e9d65ab-cb58-4f1d-9205-dc8f2a461783"
      },
      "outputs": [
        {
          "output_type": "stream",
          "name": "stdout",
          "text": [
            "8\n",
            "0.5\n",
            "16\n"
          ]
        }
      ],
      "source": [
        "x = 2\n",
        "y = 4\n",
        "print(x * y)\n",
        "print(x / y)\n",
        "print(x ** y)"
      ]
    },
    {
      "cell_type": "code",
      "source": [
        "x = 5\n",
        "y = 2\n",
        "print(x // y)\n",
        "print(x % y)"
      ],
      "metadata": {
        "id": "jId493HfghWc",
        "outputId": "a78ee732-238a-4e60-85f8-b9f0046bc583",
        "colab": {
          "base_uri": "https://localhost:8080/"
        }
      },
      "execution_count": 2,
      "outputs": [
        {
          "output_type": "stream",
          "name": "stdout",
          "text": [
            "2\n",
            "1\n"
          ]
        }
      ]
    }
  ]
}