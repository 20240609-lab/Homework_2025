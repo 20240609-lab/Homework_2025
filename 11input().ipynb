{
  "nbformat": 4,
  "nbformat_minor": 0,
  "metadata": {
    "colab": {
      "provenance": [],
      "authorship_tag": "ABX9TyP0o5FC0JreO0qOm2nGjisS",
      "include_colab_link": true
    },
    "kernelspec": {
      "name": "python3",
      "display_name": "Python 3"
    },
    "language_info": {
      "name": "python"
    }
  },
  "cells": [
    {
      "cell_type": "markdown",
      "metadata": {
        "id": "view-in-github",
        "colab_type": "text"
      },
      "source": [
        "<a href=\"https://colab.research.google.com/github/20240609-lab/Homework_2025/blob/main/11input().ipynb\" target=\"_parent\"><img src=\"https://colab.research.google.com/assets/colab-badge.svg\" alt=\"Open In Colab\"/></a>"
      ]
    },
    {
      "cell_type": "code",
      "execution_count": 1,
      "metadata": {
        "colab": {
          "base_uri": "https://localhost:8080/"
        },
        "id": "Tz182iAVfNL0",
        "outputId": "861e0bd9-a068-4793-f136-35630db24279"
      },
      "outputs": [
        {
          "output_type": "stream",
          "name": "stdout",
          "text": [
            "10\n",
            "사용자가 입력한 값은 <10>입니다.\n"
          ]
        }
      ],
      "source": [
        "userInput = input()\n",
        "print('사용자가 입력한 값은 <'+userInput+'>입니다.')"
      ]
    },
    {
      "cell_type": "code",
      "source": [
        "userInput =input()\n",
        "print('사용자가 입력한 값은<'+userInput+'>입니다.')"
      ],
      "metadata": {
        "colab": {
          "base_uri": "https://localhost:8080/"
        },
        "id": "pKV2gVRhfZTW",
        "outputId": "e3d45c64-1956-460f-97cb-c358c122cede"
      },
      "execution_count": 2,
      "outputs": [
        {
          "output_type": "stream",
          "name": "stdout",
          "text": [
            "YES\n",
            "사용자가 입력한 값은<YES>입니다.\n"
          ]
        }
      ]
    }
  ]
}