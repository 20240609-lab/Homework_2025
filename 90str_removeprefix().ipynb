{
  "nbformat": 4,
  "nbformat_minor": 0,
  "metadata": {
    "colab": {
      "provenance": [],
      "authorship_tag": "ABX9TyM54Vc/mNCRGMWdBiVUfsji",
      "include_colab_link": true
    },
    "kernelspec": {
      "name": "python3",
      "display_name": "Python 3"
    },
    "language_info": {
      "name": "python"
    }
  },
  "cells": [
    {
      "cell_type": "markdown",
      "metadata": {
        "id": "view-in-github",
        "colab_type": "text"
      },
      "source": [
        "<a href=\"https://colab.research.google.com/github/20240609-lab/Homework_2025/blob/main/90str_removeprefix().ipynb\" target=\"_parent\"><img src=\"https://colab.research.google.com/assets/colab-badge.svg\" alt=\"Open In Colab\"/></a>"
      ]
    },
    {
      "cell_type": "code",
      "source": [
        "strData = '[info]Seoul is the captial of Korea.'\n",
        "cityinfo = strData.removeprefix('[info]')\n",
        "print(cityinfo)"
      ],
      "metadata": {
        "colab": {
          "base_uri": "https://localhost:8080/"
        },
        "id": "tLjWJCZ3NnOK",
        "outputId": "c0543259-885c-45e8-8251-9c2e1fd8ee21"
      },
      "execution_count": 82,
      "outputs": [
        {
          "output_type": "stream",
          "name": "stdout",
          "text": [
            "Seoul is the captial of Korea.\n"
          ]
        }
      ]
    },
    {
      "cell_type": "code",
      "source": [
        "strData = '이것으로 문장을 마무리 합니다.<EOD>'\n",
        "ret = strData.removesuffix('<EOD>')\n",
        "print(ret)"
      ],
      "metadata": {
        "colab": {
          "base_uri": "https://localhost:8080/"
        },
        "id": "f_kS1gZRN3De",
        "outputId": "2266348b-f9ba-498f-93b7-ba9488e221be"
      },
      "execution_count": 83,
      "outputs": [
        {
          "output_type": "stream",
          "name": "stdout",
          "text": [
            "이것으로 문장을 마무리 합니다.\n"
          ]
        }
      ]
    }
  ]
}