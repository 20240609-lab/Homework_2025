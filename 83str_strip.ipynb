{
  "nbformat": 4,
  "nbformat_minor": 0,
  "metadata": {
    "colab": {
      "provenance": [],
      "authorship_tag": "ABX9TyPMc4g8iehROhARTjbzCqIx",
      "include_colab_link": true
    },
    "kernelspec": {
      "name": "python3",
      "display_name": "Python 3"
    },
    "language_info": {
      "name": "python"
    }
  },
  "cells": [
    {
      "cell_type": "markdown",
      "metadata": {
        "id": "view-in-github",
        "colab_type": "text"
      },
      "source": [
        "<a href=\"https://colab.research.google.com/github/20240609-lab/Homework_2025/blob/main/83str_strip.ipynb\" target=\"_parent\"><img src=\"https://colab.research.google.com/assets/colab-badge.svg\" alt=\"Open In Colab\"/></a>"
      ]
    },
    {
      "cell_type": "code",
      "source": [
        "text = '  이 문장의 양쪽에는 공백이 있습니다. '\n",
        "print(f'<text.strip()>')\n",
        "print(f'<text.lstrip()>')\n",
        "print(f'<text.rstrip()>')"
      ],
      "metadata": {
        "colab": {
          "base_uri": "https://localhost:8080/"
        },
        "id": "QgJVt11sJrXe",
        "outputId": "13ee9bfc-6fcf-41b9-daff-baaebce8f16b"
      },
      "execution_count": 55,
      "outputs": [
        {
          "output_type": "stream",
          "name": "stdout",
          "text": [
            "<text.strip()>\n",
            "<text.lstrip()>\n",
            "<text.rstrip()>\n"
          ]
        }
      ]
    },
    {
      "cell_type": "code",
      "source": [
        "url = 'www.python.com'\n",
        "print(url.strip('cmow.'))"
      ],
      "metadata": {
        "colab": {
          "base_uri": "https://localhost:8080/"
        },
        "id": "jD3wXpenJ39M",
        "outputId": "92bdc8b3-6632-47e0-a9a5-64cec5459e5a"
      },
      "execution_count": 56,
      "outputs": [
        {
          "output_type": "stream",
          "name": "stdout",
          "text": [
            "python\n"
          ]
        }
      ]
    },
    {
      "cell_type": "code",
      "source": [
        "print(url.lstrip('cmow.'))\n",
        "print(url.lstrip('cmow.'))"
      ],
      "metadata": {
        "colab": {
          "base_uri": "https://localhost:8080/"
        },
        "id": "ytp_IVIdKAf6",
        "outputId": "29635bab-6017-4a70-8a15-c007ff4cab23"
      },
      "execution_count": 57,
      "outputs": [
        {
          "output_type": "stream",
          "name": "stdout",
          "text": [
            "python.com\n",
            "python.com\n"
          ]
        }
      ]
    }
  ]
}