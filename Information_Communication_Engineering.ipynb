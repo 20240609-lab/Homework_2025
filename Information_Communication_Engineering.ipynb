{
  "nbformat": 4,
  "nbformat_minor": 0,
  "metadata": {
    "colab": {
      "provenance": [],
      "name": "Information Communication Engineering.ipynb",
      "authorship_tag": "ABX9TyMDGYUrMXSR/6jBpyuYsqIS",
      "include_colab_link": true
    },
    "kernelspec": {
      "name": "python3",
      "display_name": "Python 3"
    },
    "language_info": {
      "name": "python"
    }
  },
  "cells": [
    {
      "cell_type": "markdown",
      "metadata": {
        "id": "view-in-github",
        "colab_type": "text"
      },
      "source": [
        "<a href=\"https://colab.research.google.com/github/20240609-lab/Exercise_2025/blob/main/Information_Communication_Engineering.ipynb\" target=\"_parent\"><img src=\"https://colab.research.google.com/assets/colab-badge.svg\" alt=\"Open In Colab\"/></a>"
      ]
    },
    {
      "cell_type": "markdown",
      "source": [
        "#**❄️🧊 <font color = 'skyblue'>한남대학교 정보통신공학과 🧊❄️**\n",
        "    (Information Communication Engineering)"
      ],
      "metadata": {
        "id": "Mnmf-kXAp3s7"
      }
    },
    {
      "cell_type": "markdown",
      "source": [
        "---\n",
        "##🔎 <font color = 'skyblue'>**학과 소개**\n",
        "###한남대학교 <font color = 'skyblue'>**정보통신공학과**</font>는 디지털 시대의 핵심 기술인\n",
        "* 통신 시스템\n",
        "* 신호 처리\n",
        "* 네트워크\n",
        "* 임베디드 시스템\n",
        "* 보안 및 인공지능\n",
        "###을 아우르는 교육과 연구를 통해 글로벌 ICT전문가를 양성합니다.\n",
        "\n",
        "---\n",
        "\n",
        "##📋 **[교육 분야](https://ice.hannam.ac.kr/intro-4/)** </font>\n",
        "| 전자 | 통신 | 컴퓨터 |\n",
        "|:--:|:--:|:--:|\n",
        "| 회로이론 | 데이터 통신 | 디지털 논리 |\n",
        "| 디지털 시스템 | 디지털 통신 | 프로그래밍 |\n",
        "| 전자회로 | 통신망공학 | 데이터 구조 |\n",
        "| 센서회로 | 통신이론 | 임베디드OS |\n",
        "| RF회로 및 시스템 | 이동통신시스템 | 멀티미디어정보처리 |\n",
        "\n",
        "---\n",
        "\n",
        "##🎓 <font color = 'skyblue'>**교수진 / 연구실** </font>\n",
        "- **교수진 목록**\n",
        "  - **박성우 교수 (학과장)** – 전공: 컴퓨터통신망  \n",
        "  - **윤영선 교수** – 전공: 음성인식, 인공지능  \n",
        "  - **은성배 교수** - 전공 : 컴퓨터구조, 실시간시스템\n",
        "  - **류성한, 차신, 정한희 교수** 등등\n",
        "- **연구실 소개**\n",
        "  - **광대역통신 실험실** - 박성우, 유동호 교수님\n",
        "  - **휴먼컴퓨터 실험실** - 윤영선, 은성배 교수님\n",
        "  - **고주파시스템 실험실** - 류성한 교수님\n",
        "  - **초고주파회로 실험실** - 정광현 교수님\n",
        "\n",
        "---\n",
        "\n",
        "##💙 <font color = 'skyblue'>**학생 활동**\n",
        "- **동아리 / 소모임**\n",
        "- **캡스톤 디자인 / 프로젝트 발표회**\n",
        "- **학술제 / 공모전 참가**\n",
        "- **SNS / 홍보 채널**\n",
        "  - 공식 [인스타그램](https://www.instagram.com/hnu_ice/) 등\n",
        "\n",
        "---\n",
        "\n",
        "##💡 <font color = 'skyblue'>**취업 및 진로**\n",
        "- **졸업 후 진로 분야**\n",
        "  - 예: 정보 시스템 운영 및 개발 회사, 정보 통신 및 네트워크 관련 회사, 무인 자동차 개발 회사, 컴퓨터 및 IT 분야 회사, 은행 및 증권 등 금융 회사, 방송국 및 방송 제작 회사, IT 및 정보 통신 분야 대기업 등 정보 통신 분야 회사\n",
        "\n",
        "---\n",
        "\n",
        "##🌐 <font color = 'skyblue'>**교내 위치 / 연락**\n",
        "* 한남대학교 공과대학 정보통신공학과\n",
        "* [학과 홈페이지](https://ice.hannam.ac.kr/)\n",
        "* Tel : 042-629-7567  \n",
        "* 주소 : 대전광역시 대덕구 한남로 70, 한남대학교 공과대학 417호 정보통신공학과"
      ],
      "metadata": {
        "id": "fpllzRF1ZpwL"
      }
    }
  ]
}