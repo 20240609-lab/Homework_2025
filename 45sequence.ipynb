{
  "nbformat": 4,
  "nbformat_minor": 0,
  "metadata": {
    "colab": {
      "provenance": [],
      "authorship_tag": "ABX9TyNuJxHEM44zPcJ3T8Dlz95Z",
      "include_colab_link": true
    },
    "kernelspec": {
      "name": "python3",
      "display_name": "Python 3"
    },
    "language_info": {
      "name": "python"
    }
  },
  "cells": [
    {
      "cell_type": "markdown",
      "metadata": {
        "id": "view-in-github",
        "colab_type": "text"
      },
      "source": [
        "<a href=\"https://colab.research.google.com/github/20240609-lab/Homework_2025/blob/main/45sequence.ipynb\" target=\"_parent\"><img src=\"https://colab.research.google.com/assets/colab-badge.svg\" alt=\"Open In Colab\"/></a>"
      ]
    },
    {
      "cell_type": "code",
      "source": [
        "listData = [1,2,3,4,5]\n",
        "tupleData = (1,2,3,4,5)\n",
        "strData1 = '010-1234-5678'\n",
        "strData2 = \"사랑해요 파이썬!\"\n",
        "strData3 = 'I love python!'\n",
        "bstr = b'Hello Python!'"
      ],
      "metadata": {
        "id": "v0psrWfoPVm3"
      },
      "execution_count": 37,
      "outputs": []
    }
  ]
}