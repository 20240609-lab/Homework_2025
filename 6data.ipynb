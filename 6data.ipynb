{
  "nbformat": 4,
  "nbformat_minor": 0,
  "metadata": {
    "colab": {
      "provenance": [],
      "authorship_tag": "ABX9TyNwnJLluJD++dRXBrtqRaiz",
      "include_colab_link": true
    },
    "kernelspec": {
      "name": "python3",
      "display_name": "Python 3"
    },
    "language_info": {
      "name": "python"
    }
  },
  "cells": [
    {
      "cell_type": "markdown",
      "metadata": {
        "id": "view-in-github",
        "colab_type": "text"
      },
      "source": [
        "<a href=\"https://colab.research.google.com/github/20240609-lab/Homework_2025/blob/main/6data.ipynb\" target=\"_parent\"><img src=\"https://colab.research.google.com/assets/colab-badge.svg\" alt=\"Open In Colab\"/></a>"
      ]
    },
    {
      "cell_type": "code",
      "execution_count": 3,
      "metadata": {
        "colab": {
          "base_uri": "https://localhost:8080/"
        },
        "id": "HkvVqN58OmdK",
        "outputId": "a1bdf572-745d-4df4-9fd3-994acc66e05e"
      },
      "outputs": [
        {
          "output_type": "stream",
          "name": "stdout",
          "text": [
            "15\n",
            "2.5\n",
            "(1+1j)\n"
          ]
        }
      ],
      "source": [
        "intData = 15 ##5장\n",
        "floatData = 2.5\n",
        "complexData = 1+1j\n",
        "\n",
        "print(intData)\n",
        "print(floatData)\n",
        "print(complexData)"
      ]
    },
    {
      "cell_type": "code",
      "source": [
        "isTrue = True  ##7장\n",
        "isFalse = False\n",
        "\n",
        "print(isTrue)\n",
        "print(isFalse)"
      ],
      "metadata": {
        "colab": {
          "base_uri": "https://localhost:8080/"
        },
        "id": "JZKKmyzqO_4E",
        "outputId": "81367461-d62a-47e8-e918-650fd0404ba1"
      },
      "execution_count": 5,
      "outputs": [
        {
          "output_type": "stream",
          "name": "stdout",
          "text": [
            "True\n",
            "False\n"
          ]
        }
      ]
    },
    {
      "cell_type": "code",
      "source": [
        "setData ={1,2,3,4,5} ##11장\n",
        "\n",
        "\n",
        "print(setData)"
      ],
      "metadata": {
        "colab": {
          "base_uri": "https://localhost:8080/"
        },
        "id": "98qeafGiPQNd",
        "outputId": "df500209-e9c3-406b-c59e-987da3495543"
      },
      "execution_count": 6,
      "outputs": [
        {
          "output_type": "stream",
          "name": "stdout",
          "text": [
            "{1, 2, 3, 4, 5}\n"
          ]
        }
      ]
    },
    {
      "cell_type": "code",
      "source": [
        "dictData = {0:False,1:True} ##12장\n",
        "\n",
        "print(dictData)"
      ],
      "metadata": {
        "colab": {
          "base_uri": "https://localhost:8080/"
        },
        "id": "GAz-kgdTPVbU",
        "outputId": "2a73080a-b29f-41f5-a3ff-e0993352a866"
      },
      "execution_count": 9,
      "outputs": [
        {
          "output_type": "stream",
          "name": "stdout",
          "text": [
            "{0: False, 1: True}\n"
          ]
        }
      ]
    }
  ]
}