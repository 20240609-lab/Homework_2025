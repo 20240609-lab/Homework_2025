{
  "nbformat": 4,
  "nbformat_minor": 0,
  "metadata": {
    "colab": {
      "provenance": [],
      "authorship_tag": "ABX9TyPV9SgcKTwIJPVocNBFw4YH",
      "include_colab_link": true
    },
    "kernelspec": {
      "name": "python3",
      "display_name": "Python 3"
    },
    "language_info": {
      "name": "python"
    }
  },
  "cells": [
    {
      "cell_type": "markdown",
      "metadata": {
        "id": "view-in-github",
        "colab_type": "text"
      },
      "source": [
        "<a href=\"https://colab.research.google.com/github/20240609-lab/Homework_2025/blob/main/72unicode.ipynb\" target=\"_parent\"><img src=\"https://colab.research.google.com/assets/colab-badge.svg\" alt=\"Open In Colab\"/></a>"
      ]
    },
    {
      "cell_type": "code",
      "source": [
        "strData1 = 'I love python!'\n",
        "strData2 = \"사랑해요 파이썬!\"\n",
        "strData3 = \"\"\"A lot of things\n",
        "occur each day.\"\"\"\n",
        "\n",
        "print(strData1)\n",
        "print(strData2)\n",
        "print(strData3)"
      ],
      "metadata": {
        "colab": {
          "base_uri": "https://localhost:8080/"
        },
        "id": "n4l8jgEE9UDX",
        "outputId": "351e1e7d-0431-4dab-c1a9-0a803cd16f07"
      },
      "execution_count": 6,
      "outputs": [
        {
          "output_type": "stream",
          "name": "stdout",
          "text": [
            "I love python!\n",
            "사랑해요 파이썬!\n",
            "A lot of things\n",
            "occur each day.\n"
          ]
        }
      ]
    }
  ]
}