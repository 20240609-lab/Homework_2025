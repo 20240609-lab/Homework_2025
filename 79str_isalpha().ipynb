{
  "nbformat": 4,
  "nbformat_minor": 0,
  "metadata": {
    "colab": {
      "provenance": [],
      "authorship_tag": "ABX9TyPaIaqkuW7WlIUVpKpKe6Pm",
      "include_colab_link": true
    },
    "kernelspec": {
      "name": "python3",
      "display_name": "Python 3"
    },
    "language_info": {
      "name": "python"
    }
  },
  "cells": [
    {
      "cell_type": "markdown",
      "metadata": {
        "id": "view-in-github",
        "colab_type": "text"
      },
      "source": [
        "<a href=\"https://colab.research.google.com/github/20240609-lab/Homework_2025/blob/main/79str_isalpha().ipynb\" target=\"_parent\"><img src=\"https://colab.research.google.com/assets/colab-badge.svg\" alt=\"Open In Colab\"/></a>"
      ]
    },
    {
      "cell_type": "code",
      "source": [
        "strList = ['Hello','오징어게임','파이썬 lover','안녕!','제3세계']"
      ],
      "metadata": {
        "id": "ZdaP_oDoFWme"
      },
      "execution_count": 38,
      "outputs": []
    },
    {
      "cell_type": "code",
      "source": [
        "for text in strList:\n",
        "  print(f'\"{text}\"\\t->{text.isalpha()}')"
      ],
      "metadata": {
        "colab": {
          "base_uri": "https://localhost:8080/"
        },
        "id": "A91-06rgFhy1",
        "outputId": "6e26fb74-e6ad-4fe2-bd71-bd836214edc0"
      },
      "execution_count": 39,
      "outputs": [
        {
          "output_type": "stream",
          "name": "stdout",
          "text": [
            "\"Hello\"\t->True\n",
            "\"오징어게임\"\t->True\n",
            "\"파이썬 lover\"\t->False\n",
            "\"안녕!\"\t->False\n",
            "\"제3세계\"\t->False\n"
          ]
        }
      ]
    }
  ]
}