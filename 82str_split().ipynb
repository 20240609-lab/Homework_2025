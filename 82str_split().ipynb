{
  "nbformat": 4,
  "nbformat_minor": 0,
  "metadata": {
    "colab": {
      "provenance": [],
      "authorship_tag": "ABX9TyMCQ2qHMi51ohhYoeL5vNt+",
      "include_colab_link": true
    },
    "kernelspec": {
      "name": "python3",
      "display_name": "Python 3"
    },
    "language_info": {
      "name": "python"
    }
  },
  "cells": [
    {
      "cell_type": "markdown",
      "metadata": {
        "id": "view-in-github",
        "colab_type": "text"
      },
      "source": [
        "<a href=\"https://colab.research.google.com/github/20240609-lab/Homework_2025/blob/main/82str_split().ipynb\" target=\"_parent\"><img src=\"https://colab.research.google.com/assets/colab-badge.svg\" alt=\"Open In Colab\"/></a>"
      ]
    },
    {
      "cell_type": "code",
      "source": [
        "logData = '홍길동;남자;18세;도적;초능력자'\n",
        "profile = logData.split(';')\n",
        "print(profile)"
      ],
      "metadata": {
        "colab": {
          "base_uri": "https://localhost:8080/"
        },
        "id": "JBTOsrSJIuab",
        "outputId": "93bba5bc-bd59-4b9c-beb6-91295661724e"
      },
      "execution_count": 52,
      "outputs": [
        {
          "output_type": "stream",
          "name": "stdout",
          "text": [
            "['홍길동', '남자', '18세', '도적', '초능력자']\n"
          ]
        }
      ]
    },
    {
      "cell_type": "code",
      "source": [
        "text = '나는 파이썬을 사랑합니다.'\n",
        "print(text.split())"
      ],
      "metadata": {
        "colab": {
          "base_uri": "https://localhost:8080/"
        },
        "id": "80WDpERrI7QG",
        "outputId": "b2c0bcb5-287a-4439-b60c-2b824dab310d"
      },
      "execution_count": 53,
      "outputs": [
        {
          "output_type": "stream",
          "name": "stdout",
          "text": [
            "['나는', '파이썬을', '사랑합니다.']\n"
          ]
        }
      ]
    },
    {
      "cell_type": "code",
      "source": [
        "profile = '이름:홍길동 나이:18세 성별:남자 국적:조선 직업:도적 특기:초능력'\n",
        "for data in profile.split():\n",
        "  key, val = data.split(':')\n",
        "  print(f'{key}->{val}')"
      ],
      "metadata": {
        "colab": {
          "base_uri": "https://localhost:8080/"
        },
        "id": "PRByTs_yJCUS",
        "outputId": "664086c8-ac1c-437b-dc4a-75020ba19548"
      },
      "execution_count": 54,
      "outputs": [
        {
          "output_type": "stream",
          "name": "stdout",
          "text": [
            "이름->홍길동\n",
            "나이->18세\n",
            "성별->남자\n",
            "국적->조선\n",
            "직업->도적\n",
            "특기->초능력\n"
          ]
        }
      ]
    }
  ]
}