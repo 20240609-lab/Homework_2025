{
  "nbformat": 4,
  "nbformat_minor": 0,
  "metadata": {
    "colab": {
      "provenance": [],
      "authorship_tag": "ABX9TyPGwHMhkOmEXKCldPX4HmR4",
      "include_colab_link": true
    },
    "kernelspec": {
      "name": "python3",
      "display_name": "Python 3"
    },
    "language_info": {
      "name": "python"
    }
  },
  "cells": [
    {
      "cell_type": "markdown",
      "metadata": {
        "id": "view-in-github",
        "colab_type": "text"
      },
      "source": [
        "<a href=\"https://colab.research.google.com/github/20240609-lab/Homework_2025/blob/main/2individual_for_ipynb.ipynb\" target=\"_parent\"><img src=\"https://colab.research.google.com/assets/colab-badge.svg\" alt=\"Open In Colab\"/></a>"
      ]
    },
    {
      "cell_type": "code",
      "execution_count": 2,
      "metadata": {
        "colab": {
          "base_uri": "https://localhost:8080/"
        },
        "id": "NnalHIVlhbak",
        "outputId": "b8b23971-fcc8-49f9-b00f-81fd8ad6f577"
      },
      "outputs": [
        {
          "output_type": "stream",
          "name": "stdout",
          "text": [
            "fib(10) = 55\n",
            "total_number of calls: 177\n"
          ]
        },
        {
          "output_type": "stream",
          "name": "stderr",
          "text": [
            "\n",
            "KeyboardInterrupt\n",
            "\n"
          ]
        }
      ],
      "source": [
        "import time\n",
        "\n",
        "call_count = 0\n",
        "\n",
        "def fib(n):\n",
        "    global call_count\n",
        "    call_count += 1\n",
        "    if n == 0:\n",
        "        return 0\n",
        "    if n == 1:\n",
        "        return 1\n",
        "    return (fib(n - 1) + fib(n - 2))\n",
        "\n",
        "def fib_iter(n):\n",
        "    if n == 0:\n",
        "        return 0\n",
        "    if n == 1:\n",
        "        return 1\n",
        "\n",
        "    pp = 0\n",
        "    p = 1\n",
        "    result = 0\n",
        "\n",
        "    for i in range(2, n + 1):\n",
        "        result = p + pp\n",
        "        pp = p\n",
        "        p = result\n",
        "    return result\n",
        "\n",
        "n = 10\n",
        "\n",
        "start = time.time()\n",
        "print(f\"fib({n}) = {fib(n)}\")\n",
        "print(f\"total_number of calls: {call_count}\")\n",
        "for i in range(10000000):\n",
        "  fib(n)\n",
        "print(f\"elapsed time : {time.time() - start}\")\n",
        "\n",
        "call_count = 0\n",
        "\n",
        "start = time.time()\n",
        "print(f\"fib_iter({n}) = {fib_iter(n)}\")\n",
        "for i in range(10000000):\n",
        "  fib_iter(n)\n",
        "print(f\"elapsed time : {time.time() - start}\")"
      ]
    },
    {
      "cell_type": "code",
      "source": [],
      "metadata": {
        "id": "ahxi6INsiLvz"
      },
      "execution_count": null,
      "outputs": []
    }
  ]
}