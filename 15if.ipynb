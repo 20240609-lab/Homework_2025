{
  "nbformat": 4,
  "nbformat_minor": 0,
  "metadata": {
    "colab": {
      "provenance": [],
      "authorship_tag": "ABX9TyOsbzrYEuuwYkTRp0MWUiJH",
      "include_colab_link": true
    },
    "kernelspec": {
      "name": "python3",
      "display_name": "Python 3"
    },
    "language_info": {
      "name": "python"
    }
  },
  "cells": [
    {
      "cell_type": "markdown",
      "metadata": {
        "id": "view-in-github",
        "colab_type": "text"
      },
      "source": [
        "<a href=\"https://colab.research.google.com/github/20240609-lab/Homework_2025/blob/main/15if.ipynb\" target=\"_parent\"><img src=\"https://colab.research.google.com/assets/colab-badge.svg\" alt=\"Open In Colab\"/></a>"
      ]
    },
    {
      "cell_type": "code",
      "execution_count": 1,
      "metadata": {
        "colab": {
          "base_uri": "https://localhost:8080/"
        },
        "id": "YYrfD-W20292",
        "outputId": "337926ef-d593-4a4c-a127-2e65d128f1de"
      },
      "outputs": [
        {
          "output_type": "stream",
          "name": "stdout",
          "text": [
            "x가 y보다 작습니다.\n"
          ]
        }
      ],
      "source": [
        "x = 1\n",
        "y = 2\n",
        "if x < y:\n",
        "    print(\"x가 y보다 작습니다.\")\n",
        "else:\n",
        "    print(\"x가 y보다 작지 않습니다.\")"
      ]
    },
    {
      "cell_type": "code",
      "source": [
        "x = 1\n",
        "y = 2\n",
        "if x <y:\n",
        "  print(\"x가 y보다 작습니다.\")\n",
        "elif x > y:\n",
        "  print(\"x가 y보다 큽니다.\")\n",
        "else:\n",
        "  print(\"x와 y가 같습니다.\")"
      ],
      "metadata": {
        "colab": {
          "base_uri": "https://localhost:8080/"
        },
        "id": "DBDM9CdK1P4J",
        "outputId": "e7684896-25c5-4a8f-b4ae-fb3e4ec551cd"
      },
      "execution_count": 2,
      "outputs": [
        {
          "output_type": "stream",
          "name": "stdout",
          "text": [
            "x가 y보다 작습니다.\n"
          ]
        }
      ]
    }
  ]
}