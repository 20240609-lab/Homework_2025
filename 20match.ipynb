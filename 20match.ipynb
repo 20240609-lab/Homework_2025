{
  "nbformat": 4,
  "nbformat_minor": 0,
  "metadata": {
    "colab": {
      "provenance": [],
      "authorship_tag": "ABX9TyO3KBctQwwtgkWbNemcwae7",
      "include_colab_link": true
    },
    "kernelspec": {
      "name": "python3",
      "display_name": "Python 3"
    },
    "language_info": {
      "name": "python"
    }
  },
  "cells": [
    {
      "cell_type": "markdown",
      "metadata": {
        "id": "view-in-github",
        "colab_type": "text"
      },
      "source": [
        "<a href=\"https://colab.research.google.com/github/20240609-lab/Homework_2025/blob/main/20match.ipynb\" target=\"_parent\"><img src=\"https://colab.research.google.com/assets/colab-badge.svg\" alt=\"Open In Colab\"/></a>"
      ]
    },
    {
      "cell_type": "code",
      "execution_count": 14,
      "metadata": {
        "colab": {
          "base_uri": "https://localhost:8080/"
        },
        "id": "aj-MHbpAeKMt",
        "outputId": "100cf238-cd5e-4198-d94d-7305f06b050e"
      },
      "outputs": [
        {
          "output_type": "stream",
          "name": "stdout",
          "text": [
            "Bad Request\n"
          ]
        }
      ],
      "source": [
        "http_status = 400\n",
        "match http_status:\n",
        "  case 400:\n",
        "    print(\"Bad Request\")\n",
        "  case 401:\n",
        "    print(\"Unauthorized\")\n",
        "  case 403:\n",
        "    print(\"Forbidden\")\n",
        "  case 404:\n",
        "    print(\"Not Found\")\n",
        "  case _:\n",
        "    print('기타 인터넷 문제로 뭔가 잘못됨')"
      ]
    },
    {
      "cell_type": "code",
      "source": [
        "http_status = 302\n",
        "match http_status:\n",
        "  case 200 | 202 | 203:\n",
        "    print('Success')\n",
        "  case 301 | 302 | 303:\n",
        "    print('Redirection')\n",
        "  case 400 | 401 | 403 | 404:\n",
        "    print('client Errors')\n",
        "  case _:\n",
        "    print('기타 HTTP 응답 코드')"
      ],
      "metadata": {
        "colab": {
          "base_uri": "https://localhost:8080/"
        },
        "id": "qY9QytU5foUz",
        "outputId": "f3eba6b5-f310-483f-f080-cf03945e66bb"
      },
      "execution_count": 15,
      "outputs": [
        {
          "output_type": "stream",
          "name": "stdout",
          "text": [
            "Redirection\n"
          ]
        }
      ]
    },
    {
      "cell_type": "code",
      "source": [
        "point = (0, 0)\n",
        "match point:\n",
        "  case (0, 0):\n",
        "    print('원점 좌표')\n",
        "  case (x, 0):\n",
        "    print(f'x축 위의 점이며 x의 값은 {x}')\n",
        "  case (0, y):\n",
        "    print(f'y축 위의 점이며 y의 값은 {y}')\n",
        "  case (x, y):\n",
        "    print(f'(x, y) = ({x}, {y})')\n",
        "  case _:\n",
        "    print('오류  : 2차원 좌표가 아님')"
      ],
      "metadata": {
        "colab": {
          "base_uri": "https://localhost:8080/"
        },
        "id": "6AKHVtxIfp1D",
        "outputId": "c0d98f97-affb-4af8-f166-727f467f0949"
      },
      "execution_count": 16,
      "outputs": [
        {
          "output_type": "stream",
          "name": "stdout",
          "text": [
            "원점 좌표\n"
          ]
        }
      ]
    }
  ]
}