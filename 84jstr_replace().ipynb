{
  "nbformat": 4,
  "nbformat_minor": 0,
  "metadata": {
    "colab": {
      "provenance": [],
      "authorship_tag": "ABX9TyNY6L12wMhCvuLrqA3rKJsz",
      "include_colab_link": true
    },
    "kernelspec": {
      "name": "python3",
      "display_name": "Python 3"
    },
    "language_info": {
      "name": "python"
    }
  },
  "cells": [
    {
      "cell_type": "markdown",
      "metadata": {
        "id": "view-in-github",
        "colab_type": "text"
      },
      "source": [
        "<a href=\"https://colab.research.google.com/github/20240609-lab/Homework_2025/blob/main/84jstr_replace().ipynb\" target=\"_parent\"><img src=\"https://colab.research.google.com/assets/colab-badge.svg\" alt=\"Open In Colab\"/></a>"
      ]
    },
    {
      "cell_type": "code",
      "source": [
        "text = '문자열:파이썬에서 시퀀스 자료 중 하나임'\n",
        "ret = text.replace('문자열','텍스트')\n",
        "print(ret)"
      ],
      "metadata": {
        "colab": {
          "base_uri": "https://localhost:8080/"
        },
        "id": "CC2pY-ZuKaKw",
        "outputId": "65c25da5-1c07-477e-9b98-ece06d65c946"
      },
      "execution_count": 58,
      "outputs": [
        {
          "output_type": "stream",
          "name": "stdout",
          "text": [
            "텍스트:파이썬에서 시퀀스 자료 중 하나임\n"
          ]
        }
      ]
    },
    {
      "cell_type": "code",
      "source": [
        "text = '매일 많은 일들이 일어납니다.'\n",
        "ret = text.replace('일','사건')\n",
        "print(ret)"
      ],
      "metadata": {
        "colab": {
          "base_uri": "https://localhost:8080/"
        },
        "id": "88FbxpEMKiq6",
        "outputId": "6564da00-0af3-49a3-e0dc-d0c3fdcb9615"
      },
      "execution_count": 59,
      "outputs": [
        {
          "output_type": "stream",
          "name": "stdout",
          "text": [
            "매사건 많은 사건들이 사건어납니다.\n"
          ]
        }
      ]
    }
  ]
}