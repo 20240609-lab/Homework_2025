{
  "nbformat": 4,
  "nbformat_minor": 0,
  "metadata": {
    "colab": {
      "provenance": [],
      "authorship_tag": "ABX9TyPfWClDnmzinqgsboK7J4WG",
      "include_colab_link": true
    },
    "kernelspec": {
      "name": "python3",
      "display_name": "Python 3"
    },
    "language_info": {
      "name": "python"
    }
  },
  "cells": [
    {
      "cell_type": "markdown",
      "metadata": {
        "id": "view-in-github",
        "colab_type": "text"
      },
      "source": [
        "<a href=\"https://colab.research.google.com/github/20240609-lab/Homework_2025/blob/main/86format().ipynb\" target=\"_parent\"><img src=\"https://colab.research.google.com/assets/colab-badge.svg\" alt=\"Open In Colab\"/></a>"
      ]
    },
    {
      "cell_type": "code",
      "source": [
        "names = ['유비','관우','장비','조운','제갈량']\n",
        "for idx,name in enumerate(names, start=1):\n",
        "  order = format(idx,'03')\n",
        "  print(f'{order}-{name}')"
      ],
      "metadata": {
        "colab": {
          "base_uri": "https://localhost:8080/"
        },
        "id": "UAcIczjiLVDn",
        "outputId": "e64152d9-c651-4dee-c438-208bd56b2a77"
      },
      "execution_count": 64,
      "outputs": [
        {
          "output_type": "stream",
          "name": "stdout",
          "text": [
            "001-유비\n",
            "002-관우\n",
            "003-장비\n",
            "004-조운\n",
            "005-제갈량\n"
          ]
        }
      ]
    }
  ]
}