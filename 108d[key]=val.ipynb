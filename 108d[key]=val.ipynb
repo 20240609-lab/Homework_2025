{
  "nbformat": 4,
  "nbformat_minor": 0,
  "metadata": {
    "colab": {
      "provenance": [],
      "authorship_tag": "ABX9TyNftGUKEpcgxvzNba42EbWa",
      "include_colab_link": true
    },
    "kernelspec": {
      "name": "python3",
      "display_name": "Python 3"
    },
    "language_info": {
      "name": "python"
    }
  },
  "cells": [
    {
      "cell_type": "markdown",
      "metadata": {
        "id": "view-in-github",
        "colab_type": "text"
      },
      "source": [
        "<a href=\"https://colab.research.google.com/github/20240609-lab/Homework_2025/blob/main/108d%5Bkey%5D%3Dval.ipynb\" target=\"_parent\"><img src=\"https://colab.research.google.com/assets/colab-badge.svg\" alt=\"Open In Colab\"/></a>"
      ]
    },
    {
      "cell_type": "markdown",
      "source": [],
      "metadata": {
        "id": "zQgQuyCg00aV"
      }
    },
    {
      "cell_type": "code",
      "source": [
        "nameList = ['Mary','Cris','Aimy','Tom','Bob']\n",
        "population = [10999,2111,9778,20245,27115]\n",
        "names = {}\n",
        "for k, v in zip(nameList, population):\n",
        "    names[k] = v\n",
        "    print(names)"
      ],
      "metadata": {
        "colab": {
          "base_uri": "https://localhost:8080/"
        },
        "id": "RjzExT041HW0",
        "outputId": "e3fb0805-6530-4670-9f67-7b6a77b150a2"
      },
      "execution_count": 61,
      "outputs": [
        {
          "output_type": "stream",
          "name": "stdout",
          "text": [
            "{'Mary': 10999}\n",
            "{'Mary': 10999, 'Cris': 2111}\n",
            "{'Mary': 10999, 'Cris': 2111, 'Aimy': 9778}\n",
            "{'Mary': 10999, 'Cris': 2111, 'Aimy': 9778, 'Tom': 20245}\n",
            "{'Mary': 10999, 'Cris': 2111, 'Aimy': 9778, 'Tom': 20245, 'Bob': 27115}\n"
          ]
        }
      ]
    },
    {
      "cell_type": "code",
      "source": [
        "names['Mary'] = 20000\n",
        "print(names)"
      ],
      "metadata": {
        "colab": {
          "base_uri": "https://localhost:8080/"
        },
        "id": "fX_A4Mmd1iSd",
        "outputId": "cddd7af2-86e5-4b63-b8c5-7b7184cf7787"
      },
      "execution_count": 62,
      "outputs": [
        {
          "output_type": "stream",
          "name": "stdout",
          "text": [
            "{'Mary': 20000, 'Cris': 2111, 'Aimy': 9778, 'Tom': 20245, 'Bob': 27115}\n"
          ]
        }
      ]
    }
  ]
}