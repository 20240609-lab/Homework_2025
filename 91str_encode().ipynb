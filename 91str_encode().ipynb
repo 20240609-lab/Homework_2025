{
  "nbformat": 4,
  "nbformat_minor": 0,
  "metadata": {
    "colab": {
      "provenance": [],
      "authorship_tag": "ABX9TyODV6v8PODrFZRnjN9Vol+a",
      "include_colab_link": true
    },
    "kernelspec": {
      "name": "python3",
      "display_name": "Python 3"
    },
    "language_info": {
      "name": "python"
    }
  },
  "cells": [
    {
      "cell_type": "markdown",
      "metadata": {
        "id": "view-in-github",
        "colab_type": "text"
      },
      "source": [
        "<a href=\"https://colab.research.google.com/github/20240609-lab/Homework_2025/blob/main/91str_encode().ipynb\" target=\"_parent\"><img src=\"https://colab.research.google.com/assets/colab-badge.svg\" alt=\"Open In Colab\"/></a>"
      ]
    },
    {
      "cell_type": "code",
      "source": [
        "strData = 'python'\n",
        "byteData = strData.encode()\n",
        "print(byteData)"
      ],
      "metadata": {
        "colab": {
          "base_uri": "https://localhost:8080/"
        },
        "id": "9qDef4WkO1a1",
        "outputId": "1b169c1b-7d76-4142-c70d-896504f8854a"
      },
      "execution_count": 87,
      "outputs": [
        {
          "output_type": "stream",
          "name": "stdout",
          "text": [
            "b'python'\n"
          ]
        }
      ]
    },
    {
      "cell_type": "code",
      "source": [
        "for idx, c in enumerate(strData):\n",
        "  print(f'strData[{idx}] = {c}')"
      ],
      "metadata": {
        "colab": {
          "base_uri": "https://localhost:8080/"
        },
        "id": "MDqhAbBZO-Zn",
        "outputId": "1f422603-a661-410f-ffe8-9b70c3be8eeb"
      },
      "execution_count": 88,
      "outputs": [
        {
          "output_type": "stream",
          "name": "stdout",
          "text": [
            "strData[0] = p\n",
            "strData[1] = y\n",
            "strData[2] = t\n",
            "strData[3] = h\n",
            "strData[4] = o\n",
            "strData[5] = n\n"
          ]
        }
      ]
    },
    {
      "cell_type": "code",
      "source": [
        "for idx,c in enumerate(byteData):\n",
        "  print(f'byteData[{idx}] = {c},{hex(c)}')"
      ],
      "metadata": {
        "colab": {
          "base_uri": "https://localhost:8080/"
        },
        "id": "6GDC-TD4PGvD",
        "outputId": "3d151e62-116a-47dd-876e-4e52b9f03306"
      },
      "execution_count": 89,
      "outputs": [
        {
          "output_type": "stream",
          "name": "stdout",
          "text": [
            "byteData[0] = 112,0x70\n",
            "byteData[1] = 121,0x79\n",
            "byteData[2] = 116,0x74\n",
            "byteData[3] = 104,0x68\n",
            "byteData[4] = 111,0x6f\n",
            "byteData[5] = 110,0x6e\n"
          ]
        }
      ]
    },
    {
      "cell_type": "code",
      "source": [
        "strData = '파이썬'\n",
        "byteData = strData.encode()\n",
        "print(byteData)"
      ],
      "metadata": {
        "colab": {
          "base_uri": "https://localhost:8080/"
        },
        "id": "k9DJXpX6PNiF",
        "outputId": "eb3ebeb4-362f-4f00-f3c3-d41b066048fc"
      },
      "execution_count": 90,
      "outputs": [
        {
          "output_type": "stream",
          "name": "stdout",
          "text": [
            "b'\\xed\\x8c\\x8c\\xec\\x9d\\xb4\\xec\\x8d\\xac'\n"
          ]
        }
      ]
    },
    {
      "cell_type": "code",
      "source": [
        "strData = '파이썬'\n",
        "byteData = strData.encode('CP949')\n",
        "print(byteData)"
      ],
      "metadata": {
        "colab": {
          "base_uri": "https://localhost:8080/"
        },
        "id": "_T4j4pm-PVXT",
        "outputId": "270318f7-0dd5-43e4-c3de-ae4c4a941c59"
      },
      "execution_count": 91,
      "outputs": [
        {
          "output_type": "stream",
          "name": "stdout",
          "text": [
            "b'\\xc6\\xc4\\xc0\\xcc\\xbd\\xe3'\n"
          ]
        }
      ]
    }
  ]
}