{
  "nbformat": 4,
  "nbformat_minor": 0,
  "metadata": {
    "colab": {
      "provenance": [],
      "authorship_tag": "ABX9TyOyHtuVTy6lsNcaKNsflBnK",
      "include_colab_link": true
    },
    "kernelspec": {
      "name": "python3",
      "display_name": "Python 3"
    },
    "language_info": {
      "name": "python"
    }
  },
  "cells": [
    {
      "cell_type": "markdown",
      "metadata": {
        "id": "view-in-github",
        "colab_type": "text"
      },
      "source": [
        "<a href=\"https://colab.research.google.com/github/20240609-lab/Homework_2025/blob/main/37Generator.ipynb\" target=\"_parent\"><img src=\"https://colab.research.google.com/assets/colab-badge.svg\" alt=\"Open In Colab\"/></a>"
      ]
    },
    {
      "cell_type": "code",
      "source": [
        "def MyRange(n):\n",
        "  current = 0\n",
        "  while current < n:\n",
        "    yield current\n",
        "    current += 1\n",
        "\n",
        "intList = MyRange(5)\n",
        "for i in intList:\n",
        "  print(i, end= ', ')"
      ],
      "metadata": {
        "colab": {
          "base_uri": "https://localhost:8080/"
        },
        "id": "1nF2TGTbmdjU",
        "outputId": "e5fdc770-148f-4010-cff7-66fe984903d9"
      },
      "execution_count": 62,
      "outputs": [
        {
          "output_type": "stream",
          "name": "stdout",
          "text": [
            "0, 1, 2, 3, 4, "
          ]
        }
      ]
    }
  ]
}