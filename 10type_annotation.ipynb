{
  "nbformat": 4,
  "nbformat_minor": 0,
  "metadata": {
    "colab": {
      "provenance": [],
      "authorship_tag": "ABX9TyPoeV/NN+6J8duH4Z+twLYu",
      "include_colab_link": true
    },
    "kernelspec": {
      "name": "python3",
      "display_name": "Python 3"
    },
    "language_info": {
      "name": "python"
    }
  },
  "cells": [
    {
      "cell_type": "markdown",
      "metadata": {
        "id": "view-in-github",
        "colab_type": "text"
      },
      "source": [
        "<a href=\"https://colab.research.google.com/github/20240609-lab/Homework_2025/blob/main/10type_annotation.ipynb\" target=\"_parent\"><img src=\"https://colab.research.google.com/assets/colab-badge.svg\" alt=\"Open In Colab\"/></a>"
      ]
    },
    {
      "cell_type": "code",
      "execution_count": 30,
      "metadata": {
        "id": "Ix8BAyvDc1Hl"
      },
      "outputs": [],
      "source": [
        "name = '남하경'\n",
        "age = 21\n",
        "weight = 21.9\n",
        "is_badman = False"
      ]
    },
    {
      "cell_type": "code",
      "source": [
        "name:str='남하경'\n",
        "age:int = 21\n",
        "weight:float=21.9\n",
        "is_badman:bool=False"
      ],
      "metadata": {
        "id": "0UvPZmF3dH-n"
      },
      "execution_count": 31,
      "outputs": []
    },
    {
      "cell_type": "code",
      "source": [
        "booklist:list[str]=['삼국지','수호지','초한지']"
      ],
      "metadata": {
        "id": "523aHDCxdXBl"
      },
      "execution_count": 32,
      "outputs": []
    },
    {
      "cell_type": "code",
      "source": [
        "island:tuple[str,float,float]=('독도',131.52,37.14)"
      ],
      "metadata": {
        "id": "nXAhn0UDdgV-"
      },
      "execution_count": 33,
      "outputs": []
    },
    {
      "cell_type": "code",
      "source": [
        "top4_fmailyname:dict[str,int]={'김씨':123456,'나씨':345811,'박씨':963123,'이씨':865909}"
      ],
      "metadata": {
        "id": "yJ9uzguqdp8G"
      },
      "execution_count": 34,
      "outputs": []
    },
    {
      "cell_type": "code",
      "source": [
        "fruits:set[str]={'사과','배','수박','참외','딸기'}"
      ],
      "metadata": {
        "id": "grB25vsld7nN"
      },
      "execution_count": 35,
      "outputs": []
    },
    {
      "cell_type": "code",
      "source": [
        "fruits:set[str]={'사과','배','수박','참외','딸기'}\n",
        "fruits={1,2,3,4,5}\n",
        "print(fruits) ##129"
      ],
      "metadata": {
        "colab": {
          "base_uri": "https://localhost:8080/"
        },
        "id": "XCA_bhzKeU6u",
        "outputId": "aaa15a6d-98dd-4c18-cb46-3e3e2cebb762"
      },
      "execution_count": 36,
      "outputs": [
        {
          "output_type": "stream",
          "name": "stdout",
          "text": [
            "{1, 2, 3, 4, 5}\n"
          ]
        }
      ]
    },
    {
      "cell_type": "code",
      "source": [
        "print(name)\n",
        "print(age)\n",
        "print(weight)\n",
        "print(is_badman)\n",
        "print(booklist)\n",
        "print(island)\n",
        "print(top4_fmailyname)\n",
        "print(fruits)"
      ],
      "metadata": {
        "colab": {
          "base_uri": "https://localhost:8080/"
        },
        "id": "Xo0deLoAeknQ",
        "outputId": "8714700b-0d2c-43ef-e883-9213ed0a14bd"
      },
      "execution_count": 37,
      "outputs": [
        {
          "output_type": "stream",
          "name": "stdout",
          "text": [
            "남하경\n",
            "21\n",
            "21.9\n",
            "False\n",
            "['삼국지', '수호지', '초한지']\n",
            "('독도', 131.52, 37.14)\n",
            "{'김씨': 123456, '나씨': 345811, '박씨': 963123, '이씨': 865909}\n",
            "{1, 2, 3, 4, 5}\n"
          ]
        }
      ]
    }
  ]
}