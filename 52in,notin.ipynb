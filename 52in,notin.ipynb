{
  "nbformat": 4,
  "nbformat_minor": 0,
  "metadata": {
    "colab": {
      "provenance": [],
      "authorship_tag": "ABX9TyPJqLpCZmv9tujt7Yrmgii8",
      "include_colab_link": true
    },
    "kernelspec": {
      "name": "python3",
      "display_name": "Python 3"
    },
    "language_info": {
      "name": "python"
    }
  },
  "cells": [
    {
      "cell_type": "markdown",
      "metadata": {
        "id": "view-in-github",
        "colab_type": "text"
      },
      "source": [
        "<a href=\"https://colab.research.google.com/github/20240609-lab/Homework_2025/blob/main/52in%2Cnotin.ipynb\" target=\"_parent\"><img src=\"https://colab.research.google.com/assets/colab-badge.svg\" alt=\"Open In Colab\"/></a>"
      ]
    },
    {
      "cell_type": "code",
      "source": [
        "x in s\n",
        "x not in s"
      ],
      "metadata": {
        "id": "fthvsTpoxxG2"
      },
      "execution_count": null,
      "outputs": []
    },
    {
      "cell_type": "code",
      "source": [
        "lyrics = 'A lot of things occur each ay! every day!'\n",
        "flag = 'things' in lyrics\n",
        "print(flag)"
      ],
      "metadata": {
        "id": "EuBhpKf2x0D_"
      },
      "execution_count": null,
      "outputs": []
    },
    {
      "cell_type": "code",
      "source": [
        "lyrics = 'A lot of things occur each ay! every day!'\n",
        "flag = 'today' not in lyrics\n",
        "print(flag)"
      ],
      "metadata": {
        "id": "s-KSIRxkyAd_"
      },
      "execution_count": null,
      "outputs": []
    },
    {
      "cell_type": "code",
      "source": [
        "urlList = ['url1','url2','url3']\n",
        "if 'url4' in urlList:\n",
        "    print('url4가 urlList의 요소로 존재합니다.')\n",
        "else:\n",
        "    print('url4가 urlList의 요소로 존재하지 않습니다.')"
      ],
      "metadata": {
        "id": "a7bSGT96yCab"
      },
      "execution_count": null,
      "outputs": []
    }
  ]
}