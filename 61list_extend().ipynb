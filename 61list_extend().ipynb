{
  "nbformat": 4,
  "nbformat_minor": 0,
  "metadata": {
    "colab": {
      "provenance": [],
      "authorship_tag": "ABX9TyPptwmHtt/gV/GtwkgNqSOf",
      "include_colab_link": true
    },
    "kernelspec": {
      "name": "python3",
      "display_name": "Python 3"
    },
    "language_info": {
      "name": "python"
    }
  },
  "cells": [
    {
      "cell_type": "markdown",
      "metadata": {
        "id": "view-in-github",
        "colab_type": "text"
      },
      "source": [
        "<a href=\"https://colab.research.google.com/github/20240609-lab/Homework_2025/blob/main/61list_extend().ipynb\" target=\"_parent\"><img src=\"https://colab.research.google.com/assets/colab-badge.svg\" alt=\"Open In Colab\"/></a>"
      ]
    },
    {
      "cell_type": "code",
      "source": [
        "world = []\n",
        "asia = ['한국','중국','일본']\n",
        "europe = ['독일','프랑스','영국']\n",
        "america = ['미국','캐나다','멕시코']"
      ],
      "metadata": {
        "id": "zBZx_SSC7ktQ"
      },
      "execution_count": 56,
      "outputs": []
    },
    {
      "cell_type": "code",
      "source": [
        "world.extend(asia)\n",
        "print(world)"
      ],
      "metadata": {
        "colab": {
          "base_uri": "https://localhost:8080/"
        },
        "id": "bkMWo4Re72V1",
        "outputId": "2d0f54df-b58f-4528-ac33-59577aa7b099"
      },
      "execution_count": 57,
      "outputs": [
        {
          "output_type": "stream",
          "name": "stdout",
          "text": [
            "['한국', '중국', '일본']\n"
          ]
        }
      ]
    },
    {
      "cell_type": "code",
      "source": [
        "world.extend(europe)\n",
        "print(world)\n",
        "world.extend(america)\n",
        "print(world)"
      ],
      "metadata": {
        "colab": {
          "base_uri": "https://localhost:8080/"
        },
        "id": "ionkXe-i77xn",
        "outputId": "326c3379-2295-4b22-fe0d-61ae3048dc9a"
      },
      "execution_count": 58,
      "outputs": [
        {
          "output_type": "stream",
          "name": "stdout",
          "text": [
            "['한국', '중국', '일본', '독일', '프랑스', '영국']\n",
            "['한국', '중국', '일본', '독일', '프랑스', '영국', '미국', '캐나다', '멕시코']\n"
          ]
        }
      ]
    },
    {
      "cell_type": "code",
      "source": [
        "world.clear()\n",
        "world += asia\n",
        "world += europe\n",
        "world += america\n",
        "print(world)"
      ],
      "metadata": {
        "colab": {
          "base_uri": "https://localhost:8080/"
        },
        "id": "I7QiCDuC8B5S",
        "outputId": "878bf14f-1f4d-4ae3-8820-626c201b7bf8"
      },
      "execution_count": 59,
      "outputs": [
        {
          "output_type": "stream",
          "name": "stdout",
          "text": [
            "['한국', '중국', '일본', '독일', '프랑스', '영국', '미국', '캐나다', '멕시코']\n"
          ]
        }
      ]
    }
  ]
}