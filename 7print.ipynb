{
  "nbformat": 4,
  "nbformat_minor": 0,
  "metadata": {
    "colab": {
      "provenance": [],
      "authorship_tag": "ABX9TyMfHC+VaUGWwTJgP/DTZ2DS",
      "include_colab_link": true
    },
    "kernelspec": {
      "name": "python3",
      "display_name": "Python 3"
    },
    "language_info": {
      "name": "python"
    }
  },
  "cells": [
    {
      "cell_type": "markdown",
      "metadata": {
        "id": "view-in-github",
        "colab_type": "text"
      },
      "source": [
        "<a href=\"https://colab.research.google.com/github/20240609-lab/Homework_2025/blob/main/7print.ipynb\" target=\"_parent\"><img src=\"https://colab.research.google.com/assets/colab-badge.svg\" alt=\"Open In Colab\"/></a>"
      ]
    },
    {
      "cell_type": "code",
      "execution_count": 18,
      "metadata": {
        "colab": {
          "base_uri": "https://localhost:8080/"
        },
        "id": "6MQFENfVQBKg",
        "outputId": "351bcb2c-a4bc-4fd4-9397-c6f477d1aec1"
      },
      "outputs": [
        {
          "output_type": "stream",
          "name": "stdout",
          "text": [
            "안녕하세요 파이썬!\n"
          ]
        }
      ],
      "source": [
        "print('안녕하세요 파이썬!')"
      ]
    },
    {
      "cell_type": "code",
      "source": [
        "hello = '안녕하세요 파이썬'\n",
        "print(hello)"
      ],
      "metadata": {
        "colab": {
          "base_uri": "https://localhost:8080/"
        },
        "id": "9sqo3JE6QRPs",
        "outputId": "9cb718cc-fd6f-48dd-c2f0-bd94ae1059b6"
      },
      "execution_count": 19,
      "outputs": [
        {
          "output_type": "stream",
          "name": "stdout",
          "text": [
            "안녕하세요 파이썬\n"
          ]
        }
      ]
    },
    {
      "cell_type": "code",
      "source": [
        "intData1 = 1\n",
        "intData2 = 2\n",
        "print(intData1 + intData2)"
      ],
      "metadata": {
        "colab": {
          "base_uri": "https://localhost:8080/"
        },
        "id": "qHSCZGezQS-0",
        "outputId": "29b162cc-8bba-4c6c-c80d-f4c437848c38"
      },
      "execution_count": 20,
      "outputs": [
        {
          "output_type": "stream",
          "name": "stdout",
          "text": [
            "3\n"
          ]
        }
      ]
    },
    {
      "cell_type": "code",
      "source": [
        "name = '남하경'\n",
        "phone = '010 - 1234 - 5678'\n",
        "print('이름 : ', name,'핸드폰 : ',phone)"
      ],
      "metadata": {
        "colab": {
          "base_uri": "https://localhost:8080/"
        },
        "id": "zOx7IIfQQajb",
        "outputId": "91b435b2-8ef9-4edf-c6de-b39b1f5efc37"
      },
      "execution_count": 21,
      "outputs": [
        {
          "output_type": "stream",
          "name": "stdout",
          "text": [
            "이름 :  남하경 핸드폰 :  010 - 1234 - 5678\n"
          ]
        }
      ]
    },
    {
      "cell_type": "code",
      "source": [
        "print('#',end='')\n",
        "print('#'*5)"
      ],
      "metadata": {
        "colab": {
          "base_uri": "https://localhost:8080/"
        },
        "id": "mzQg7i42Qwa8",
        "outputId": "3d064f1c-438e-48c0-fb7d-8c250fdf90a6"
      },
      "execution_count": 22,
      "outputs": [
        {
          "output_type": "stream",
          "name": "stdout",
          "text": [
            "######\n"
          ]
        }
      ]
    },
    {
      "cell_type": "code",
      "source": [
        "\n",
        "print(name,phone,sep=';')\n"
      ],
      "metadata": {
        "colab": {
          "base_uri": "https://localhost:8080/"
        },
        "id": "AdtdF481Q4PU",
        "outputId": "94524bef-6d4f-4b26-e27a-8676bbb5b011"
      },
      "execution_count": 25,
      "outputs": [
        {
          "output_type": "stream",
          "name": "stdout",
          "text": [
            "남하경;010 - 1234 - 5678\n"
          ]
        }
      ]
    }
  ]
}