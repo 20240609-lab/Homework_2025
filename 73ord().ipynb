{
  "nbformat": 4,
  "nbformat_minor": 0,
  "metadata": {
    "colab": {
      "provenance": [],
      "authorship_tag": "ABX9TyPHrpoWx46Qisx6nvDYMDJM",
      "include_colab_link": true
    },
    "kernelspec": {
      "name": "python3",
      "display_name": "Python 3"
    },
    "language_info": {
      "name": "python"
    }
  },
  "cells": [
    {
      "cell_type": "markdown",
      "metadata": {
        "id": "view-in-github",
        "colab_type": "text"
      },
      "source": [
        "<a href=\"https://colab.research.google.com/github/20240609-lab/Homework_2025/blob/main/73ord().ipynb\" target=\"_parent\"><img src=\"https://colab.research.google.com/assets/colab-badge.svg\" alt=\"Open In Colab\"/></a>"
      ]
    },
    {
      "cell_type": "code",
      "source": [
        "while True:\n",
        "  ch = input(\"문자 1개를 입력하세요[끝내려면 엔터를 치세요]:\")\n",
        "  if len(ch) == 0:\n",
        "    break\n",
        "  ch = ch[0]\n",
        "  code = ord(ch)\n",
        "  print(f'-> 문자 \"{ch}\"의 코드값 : {hex(code)}')"
      ],
      "metadata": {
        "colab": {
          "base_uri": "https://localhost:8080/"
        },
        "id": "o3LBBaAc93qG",
        "outputId": "77e65b2a-69cb-4e31-a0d0-bef3eaa8a423"
      },
      "execution_count": null,
      "outputs": [
        {
          "output_type": "stream",
          "name": "stdout",
          "text": [
            "문자 1개를 입력하세요[끝내려면 엔터를 치세요]:A\n",
            "-> 문자 \"A\"의 코드값 : 0x41\n",
            "문자 1개를 입력하세요[끝내려면 엔터를 치세요]:가\n",
            "-> 문자 \"가\"의 코드값 : 0xac00\n",
            "문자 1개를 입력하세요[끝내려면 엔터를 치세요]:@\n",
            "-> 문자 \"@\"의 코드값 : 0x40\n"
          ]
        }
      ]
    }
  ]
}