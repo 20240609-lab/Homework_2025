{
  "nbformat": 4,
  "nbformat_minor": 0,
  "metadata": {
    "colab": {
      "provenance": [],
      "authorship_tag": "ABX9TyOfwNKgDNfOi070vYqGvRvB",
      "include_colab_link": true
    },
    "kernelspec": {
      "name": "python3",
      "display_name": "Python 3"
    },
    "language_info": {
      "name": "python"
    }
  },
  "cells": [
    {
      "cell_type": "markdown",
      "metadata": {
        "id": "view-in-github",
        "colab_type": "text"
      },
      "source": [
        "<a href=\"https://colab.research.google.com/github/20240609-lab/Homework_2025/blob/main/19pass.ipynb\" target=\"_parent\"><img src=\"https://colab.research.google.com/assets/colab-badge.svg\" alt=\"Open In Colab\"/></a>"
      ]
    },
    {
      "cell_type": "code",
      "execution_count": 1,
      "metadata": {
        "id": "KGRdI7_VdzJQ"
      },
      "outputs": [],
      "source": [
        "for sport in ['축구','야구','배구','농구']:\n",
        "  if sport == '축구':\n",
        "    pass\n",
        "\n",
        "  if sport =='야구':\n",
        "    pass"
      ]
    },
    {
      "cell_type": "code",
      "source": [
        "def getImageLink(url):\n",
        "  pass"
      ],
      "metadata": {
        "id": "7F5IvpD4eB7T"
      },
      "execution_count": null,
      "outputs": []
    }
  ]
}