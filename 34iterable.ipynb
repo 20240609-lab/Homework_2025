{
  "nbformat": 4,
  "nbformat_minor": 0,
  "metadata": {
    "colab": {
      "provenance": [],
      "authorship_tag": "ABX9TyOZYGtt1w6V1UTjGvBRcJMM",
      "include_colab_link": true
    },
    "kernelspec": {
      "name": "python3",
      "display_name": "Python 3"
    },
    "language_info": {
      "name": "python"
    }
  },
  "cells": [
    {
      "cell_type": "markdown",
      "metadata": {
        "id": "view-in-github",
        "colab_type": "text"
      },
      "source": [
        "<a href=\"https://colab.research.google.com/github/20240609-lab/Homework_2025/blob/main/34iterable.ipynb\" target=\"_parent\"><img src=\"https://colab.research.google.com/assets/colab-badge.svg\" alt=\"Open In Colab\"/></a>"
      ]
    },
    {
      "cell_type": "code",
      "source": [
        "jterableData1 = [1,2,3,4,5]\n",
        "iterableData2 = ('a','b','c')\n",
        "iterableData3 = 'I love python!'\n",
        "iterableData4 = {97:'a',98:'b'}\n",
        "iterableData5 = {'사과','배','오렌지'}\n",
        "iterableData6 = range(10)"
      ],
      "metadata": {
        "id": "JYK_Jww9juMN"
      },
      "execution_count": 38,
      "outputs": []
    }
  ]
}