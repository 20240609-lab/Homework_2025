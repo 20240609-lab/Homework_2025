{
  "nbformat": 4,
  "nbformat_minor": 0,
  "metadata": {
    "colab": {
      "provenance": [],
      "authorship_tag": "ABX9TyM8Q9yDthlRUi2dJZYBgmPT",
      "include_colab_link": true
    },
    "kernelspec": {
      "name": "python3",
      "display_name": "Python 3"
    },
    "language_info": {
      "name": "python"
    }
  },
  "cells": [
    {
      "cell_type": "markdown",
      "metadata": {
        "id": "view-in-github",
        "colab_type": "text"
      },
      "source": [
        "<a href=\"https://colab.research.google.com/github/20240609-lab/Homework_2025/blob/main/42zip().ipynb\" target=\"_parent\"><img src=\"https://colab.research.google.com/assets/colab-badge.svg\" alt=\"Open In Colab\"/></a>"
      ]
    },
    {
      "cell_type": "code",
      "source": [
        "zip(iterable1, iterable2)"
      ],
      "metadata": {
        "id": "QW-vLZvRLuDm"
      },
      "execution_count": null,
      "outputs": []
    },
    {
      "cell_type": "code",
      "source": [
        "male = ['슈퍼맨','심봉사','로미오','이몽룡','마루치']\n",
        "female = ['원더우먼','뺑덕어멈','줄리엣','성춘향','아라치']\n",
        "couples = zip(male, female)\n",
        "for couples in couples:\n",
        "  print(couples)"
      ],
      "metadata": {
        "colab": {
          "base_uri": "https://localhost:8080/"
        },
        "id": "ip8qr35HLye-",
        "outputId": "f70b09d3-6d0d-45ec-dbfb-a810afe7dca3"
      },
      "execution_count": 7,
      "outputs": [
        {
          "output_type": "stream",
          "name": "stdout",
          "text": [
            "('슈퍼맨', '원더우먼')\n",
            "('심봉사', '뺑덕어멈')\n",
            "('로미오', '줄리엣')\n",
            "('이몽룡', '성춘향')\n",
            "('마루치', '아라치')\n"
          ]
        }
      ]
    },
    {
      "cell_type": "code",
      "source": [
        "male = ['슈퍼맨','심봉사','로미오']\n",
        "female = ['원더우먼','뺑덕어멈','줄리엣','성춘향','아라치']\n",
        "for couple in zip(male, female):\n",
        "  print(couple)"
      ],
      "metadata": {
        "colab": {
          "base_uri": "https://localhost:8080/"
        },
        "id": "Xcnk8hjEMJQ-",
        "outputId": "72e43584-f25f-44fe-c640-690a8e49cded"
      },
      "execution_count": 6,
      "outputs": [
        {
          "output_type": "stream",
          "name": "stdout",
          "text": [
            "('슈퍼맨', '원더우먼')\n",
            "('심봉사', '뺑덕어멈')\n",
            "('로미오', '줄리엣')\n"
          ]
        }
      ]
    }
  ]
}