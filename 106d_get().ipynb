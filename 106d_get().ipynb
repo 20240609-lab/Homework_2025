{
  "nbformat": 4,
  "nbformat_minor": 0,
  "metadata": {
    "colab": {
      "provenance": [],
      "authorship_tag": "ABX9TyNa++MWxeTAqH7iF8dZIm2S",
      "include_colab_link": true
    },
    "kernelspec": {
      "name": "python3",
      "display_name": "Python 3"
    },
    "language_info": {
      "name": "python"
    }
  },
  "cells": [
    {
      "cell_type": "markdown",
      "metadata": {
        "id": "view-in-github",
        "colab_type": "text"
      },
      "source": [
        "<a href=\"https://colab.research.google.com/github/20240609-lab/Homework_2025/blob/main/106d_get().ipynb\" target=\"_parent\"><img src=\"https://colab.research.google.com/assets/colab-badge.svg\" alt=\"Open In Colab\"/></a>"
      ]
    },
    {
      "cell_type": "code",
      "source": [
        "names = {'Marry':10999,'Cris':2111,'Aimy':9778,'Tom':20245}\n",
        "ret1 = names.get('Cris')\n",
        "ret2 = names.get('Sams')\n",
        "print(f'ret = {ret1}, ret2 = {ret2}')"
      ],
      "metadata": {
        "colab": {
          "base_uri": "https://localhost:8080/"
        },
        "id": "vNAQ3XiD0LTE",
        "outputId": "6ab2e6f7-237f-4565-e2b7-b08079062dd2"
      },
      "execution_count": 58,
      "outputs": [
        {
          "output_type": "stream",
          "name": "stdout",
          "text": [
            "ret = 2111, ret2 = None\n"
          ]
        }
      ]
    },
    {
      "cell_type": "code",
      "source": [
        "ret1 = names.get('Cris', 0)\n",
        "ret2 = names.get('Sams', 0)\n",
        "print(f'ret = {ret1}, ret2 = {ret2}')"
      ],
      "metadata": {
        "colab": {
          "base_uri": "https://localhost:8080/"
        },
        "id": "ijFzKAVw0Vmm",
        "outputId": "d580c10f-9de6-4550-8c75-4b7dadc7b388"
      },
      "execution_count": 59,
      "outputs": [
        {
          "output_type": "stream",
          "name": "stdout",
          "text": [
            "ret = 2111, ret2 = 0\n"
          ]
        }
      ]
    }
  ]
}