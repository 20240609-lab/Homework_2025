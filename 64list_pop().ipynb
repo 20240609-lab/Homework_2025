{
  "nbformat": 4,
  "nbformat_minor": 0,
  "metadata": {
    "colab": {
      "provenance": [],
      "authorship_tag": "ABX9TyMhPmKtAiDr8bh8LCkQj1G0",
      "include_colab_link": true
    },
    "kernelspec": {
      "name": "python3",
      "display_name": "Python 3"
    },
    "language_info": {
      "name": "python"
    }
  },
  "cells": [
    {
      "cell_type": "markdown",
      "metadata": {
        "id": "view-in-github",
        "colab_type": "text"
      },
      "source": [
        "<a href=\"https://colab.research.google.com/github/20240609-lab/Homework_2025/blob/main/64list_pop().ipynb\" target=\"_parent\"><img src=\"https://colab.research.google.com/assets/colab-badge.svg\" alt=\"Open In Colab\"/></a>"
      ]
    },
    {
      "cell_type": "code",
      "source": [
        "numbers = [14,5,18,45,10,43]\n",
        "for _ in range(len(numbers)):\n",
        "  ret = numbers.pop()\n",
        "  print(f'pop()으로 추출된 값:{ret}, numbers = {numbers}')"
      ],
      "metadata": {
        "colab": {
          "base_uri": "https://localhost:8080/"
        },
        "id": "p0JsmI9Z-qL3",
        "outputId": "d3332632-6e78-4770-b665-d01f5b5ee9a7"
      },
      "execution_count": 71,
      "outputs": [
        {
          "output_type": "stream",
          "name": "stdout",
          "text": [
            "pop()으로 추출된 값:43, numbers = [14, 5, 18, 45, 10]\n",
            "pop()으로 추출된 값:10, numbers = [14, 5, 18, 45]\n",
            "pop()으로 추출된 값:45, numbers = [14, 5, 18]\n",
            "pop()으로 추출된 값:18, numbers = [14, 5]\n",
            "pop()으로 추출된 값:5, numbers = [14]\n",
            "pop()으로 추출된 값:14, numbers = []\n"
          ]
        }
      ]
    },
    {
      "cell_type": "code",
      "source": [
        "numbers = [14,5,18,45,10,43]\n",
        "ret = numbers.pop(3)\n",
        "print(f'pop()으로 추출된 값:{ret},numbers={numbers}')"
      ],
      "metadata": {
        "colab": {
          "base_uri": "https://localhost:8080/"
        },
        "id": "mV-382f4--Lr",
        "outputId": "b197b752-9a0d-4837-88e0-d1fac178e7bd"
      },
      "execution_count": 72,
      "outputs": [
        {
          "output_type": "stream",
          "name": "stdout",
          "text": [
            "pop()으로 추출된 값:45,numbers=[14, 5, 18, 10, 43]\n"
          ]
        }
      ]
    }
  ]
}