{
  "nbformat": 4,
  "nbformat_minor": 0,
  "metadata": {
    "colab": {
      "provenance": [],
      "authorship_tag": "ABX9TyNGAsOoXy7JMBJmNibXpLI9",
      "include_colab_link": true
    },
    "kernelspec": {
      "name": "python3",
      "display_name": "Python 3"
    },
    "language_info": {
      "name": "python"
    }
  },
  "cells": [
    {
      "cell_type": "markdown",
      "metadata": {
        "id": "view-in-github",
        "colab_type": "text"
      },
      "source": [
        "<a href=\"https://colab.research.google.com/github/20240609-lab/Homework_2025/blob/main/78str_find().ipynb\" target=\"_parent\"><img src=\"https://colab.research.google.com/assets/colab-badge.svg\" alt=\"Open In Colab\"/></a>"
      ]
    },
    {
      "cell_type": "code",
      "source": [
        "sample = 'A lot of things occur each day, it\\'s very dynamical every day:'\n",
        "pos = sample.find('day')\n",
        "print(pos)"
      ],
      "metadata": {
        "colab": {
          "base_uri": "https://localhost:8080/"
        },
        "id": "mdufBIE0FI5e",
        "outputId": "75661ce0-99f7-4abf-d1bb-8eba24b88de4"
      },
      "execution_count": 36,
      "outputs": [
        {
          "output_type": "stream",
          "name": "stdout",
          "text": [
            "27\n"
          ]
        }
      ]
    },
    {
      "cell_type": "code",
      "source": [
        "spos = 0\n",
        "idx = 0\n",
        "count = 1\n",
        "while idx != -1:\n",
        "  idx = sample.find('day',spos)\n",
        "  print(f'\"day\"가 발견된 [{count}]번째 인덱스 {idx}')\n",
        "  spos = idx + 1\n",
        "  count += 1"
      ],
      "metadata": {
        "colab": {
          "base_uri": "https://localhost:8080/"
        },
        "id": "bmnxVZAcEgA6",
        "outputId": "e17175aa-9d95-4ec5-b65c-16f7e7fb6af7"
      },
      "execution_count": 37,
      "outputs": [
        {
          "output_type": "stream",
          "name": "stdout",
          "text": [
            "\"day\"가 발견된 [1]번째 인덱스 27\n",
            "\"day\"가 발견된 [2]번째 인덱스 58\n",
            "\"day\"가 발견된 [3]번째 인덱스 -1\n"
          ]
        }
      ]
    }
  ]
}