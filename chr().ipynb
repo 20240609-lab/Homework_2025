{
  "nbformat": 4,
  "nbformat_minor": 0,
  "metadata": {
    "colab": {
      "provenance": [],
      "authorship_tag": "ABX9TyM0OZxHXwc9xuqQ8T7psGr3",
      "include_colab_link": true
    },
    "kernelspec": {
      "name": "python3",
      "display_name": "Python 3"
    },
    "language_info": {
      "name": "python"
    }
  },
  "cells": [
    {
      "cell_type": "markdown",
      "metadata": {
        "id": "view-in-github",
        "colab_type": "text"
      },
      "source": [
        "<a href=\"https://colab.research.google.com/github/20240609-lab/Homework_2025/blob/main/chr().ipynb\" target=\"_parent\"><img src=\"https://colab.research.google.com/assets/colab-badge.svg\" alt=\"Open In Colab\"/></a>"
      ]
    },
    {
      "cell_type": "code",
      "source": [
        "while True:\n",
        "  code = input('0x로 시작하는 16진수 문자 코드값을 입력하세요[끝내시려면 엔터를 치세요]:')\n",
        "  if len(code) == 0:\n",
        "    break\n",
        "  unicode = int(code, 16)\n",
        "  try:\n",
        "    ch = chr(unicode)\n",
        "    print(f'-> 코드값 : {code}, 문자:\"{ch}\"')\n",
        "  except ValueError:\n",
        "    print(f'-> 코드값 : {code}에 해당하는 문자가 존재하지 않습니다.')"
      ],
      "metadata": {
        "colab": {
          "base_uri": "https://localhost:8080/"
        },
        "id": "KLxnsmbM-niO",
        "outputId": "8d968523-03d0-4058-c4a0-369b4676120c"
      },
      "execution_count": 10,
      "outputs": [
        {
          "name": "stdout",
          "output_type": "stream",
          "text": [
            "0x로 시작하는 16진수 문자 코드값을 입력하세요[끝내시려면 엔터를 치세요]:0x61\n",
            "-> 코드값 : 0x61, 문자:\"a\"\n",
            "0x로 시작하는 16진수 문자 코드값을 입력하세요[끝내시려면 엔터를 치세요]:0x03b2\n",
            "-> 코드값 : 0x03b2, 문자:\"β\"\n",
            "0x로 시작하는 16진수 문자 코드값을 입력하세요[끝내시려면 엔터를 치세요]:0xac00\n",
            "-> 코드값 : 0xac00, 문자:\"가\"\n",
            "0x로 시작하는 16진수 문자 코드값을 입력하세요[끝내시려면 엔터를 치세요]:\n"
          ]
        }
      ]
    }
  ]
}