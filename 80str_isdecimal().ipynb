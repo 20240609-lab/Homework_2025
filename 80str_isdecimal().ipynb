{
  "nbformat": 4,
  "nbformat_minor": 0,
  "metadata": {
    "colab": {
      "provenance": [],
      "authorship_tag": "ABX9TyONoaIBORjb/BS5sA8/gebf",
      "include_colab_link": true
    },
    "kernelspec": {
      "name": "python3",
      "display_name": "Python 3"
    },
    "language_info": {
      "name": "python"
    }
  },
  "cells": [
    {
      "cell_type": "markdown",
      "metadata": {
        "id": "view-in-github",
        "colab_type": "text"
      },
      "source": [
        "<a href=\"https://colab.research.google.com/github/20240609-lab/Homework_2025/blob/main/80str_isdecimal().ipynb\" target=\"_parent\"><img src=\"https://colab.research.google.com/assets/colab-badge.svg\" alt=\"Open In Colab\"/></a>"
      ]
    },
    {
      "cell_type": "code",
      "source": [
        "numbers = ['1004','-1','3.14','Ⅸ','⅞','5²','50%']"
      ],
      "metadata": {
        "id": "-uJhfgUjGJdr"
      },
      "execution_count": 45,
      "outputs": []
    },
    {
      "cell_type": "code",
      "source": [
        "for number in numbers:\n",
        "  print(f'\"{number}\"\\t->{number.isdecimal()}')"
      ],
      "metadata": {
        "colab": {
          "base_uri": "https://localhost:8080/"
        },
        "id": "5hXEyoRmG9Rq",
        "outputId": "98519a58-02e4-4f34-dac8-0489a39d6353"
      },
      "execution_count": 46,
      "outputs": [
        {
          "output_type": "stream",
          "name": "stdout",
          "text": [
            "\"1004\"\t->True\n",
            "\"-1\"\t->False\n",
            "\"3.14\"\t->False\n",
            "\"Ⅸ\"\t->False\n",
            "\"⅞\"\t->False\n",
            "\"5²\"\t->False\n",
            "\"50%\"\t->False\n"
          ]
        }
      ]
    },
    {
      "cell_type": "code",
      "source": [
        "for number in numbers:\n",
        "  print(f'\"{number}\"\\t->{number.isdigit()}')"
      ],
      "metadata": {
        "colab": {
          "base_uri": "https://localhost:8080/"
        },
        "id": "Y4yjZsPsHHk-",
        "outputId": "c28e6977-6b15-43c7-ce73-f7a08b88d7a8"
      },
      "execution_count": 47,
      "outputs": [
        {
          "output_type": "stream",
          "name": "stdout",
          "text": [
            "\"1004\"\t->True\n",
            "\"-1\"\t->False\n",
            "\"3.14\"\t->False\n",
            "\"Ⅸ\"\t->False\n",
            "\"⅞\"\t->False\n",
            "\"5²\"\t->True\n",
            "\"50%\"\t->False\n"
          ]
        }
      ]
    },
    {
      "cell_type": "code",
      "source": [
        "for number in numbers:\n",
        "  print(f'\"{number}\"\\t->{number.isnumeric()}')"
      ],
      "metadata": {
        "colab": {
          "base_uri": "https://localhost:8080/"
        },
        "id": "PGtWnsQAHkRh",
        "outputId": "bcf70bea-c7d2-4004-80ed-eb41a40dc64f"
      },
      "execution_count": 49,
      "outputs": [
        {
          "output_type": "stream",
          "name": "stdout",
          "text": [
            "\"1004\"\t->True\n",
            "\"-1\"\t->False\n",
            "\"3.14\"\t->False\n",
            "\"Ⅸ\"\t->True\n",
            "\"⅞\"\t->True\n",
            "\"5²\"\t->True\n",
            "\"50%\"\t->False\n"
          ]
        }
      ]
    }
  ]
}