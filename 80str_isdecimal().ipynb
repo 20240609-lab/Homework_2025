{
  "nbformat": 4,
  "nbformat_minor": 0,
  "metadata": {
    "colab": {
      "provenance": [],
      "authorship_tag": "ABX9TyNFwODt+CMkyU4AQw65/phO",
      "include_colab_link": true
    },
    "kernelspec": {
      "name": "python3",
      "display_name": "Python 3"
    },
    "language_info": {
      "name": "python"
    }
  },
  "cells": [
    {
      "cell_type": "markdown",
      "metadata": {
        "id": "view-in-github",
        "colab_type": "text"
      },
      "source": [
        "<a href=\"https://colab.research.google.com/github/20240609-lab/Homework_2025/blob/main/80str_isdecimal().ipynb\" target=\"_parent\"><img src=\"https://colab.research.google.com/assets/colab-badge.svg\" alt=\"Open In Colab\"/></a>"
      ]
    },
    {
      "cell_type": "code",
      "source": [
        "numbers = ['1004','-1','3.14','Ⅸ','⅞','5²','50%']"
      ],
      "metadata": {
        "id": "-uJhfgUjGJdr"
      },
      "execution_count": 42,
      "outputs": []
    },
    {
      "cell_type": "code",
      "source": [
        "for number in numbers:\n",
        "  print(f'\"{number}\"\\t->{number.isdecimal()}')"
      ],
      "metadata": {
        "colab": {
          "base_uri": "https://localhost:8080/"
        },
        "id": "5hXEyoRmG9Rq",
        "outputId": "f3da9391-84c2-4f8c-84af-38d48e08fa90"
      },
      "execution_count": 43,
      "outputs": [
        {
          "output_type": "stream",
          "name": "stdout",
          "text": [
            "\"1004\"\t->True\n",
            "\"-1\"\t->False\n",
            "\"3.14\"\t->False\n",
            "\"Ⅸ\"\t->False\n",
            "\"⅞\"\t->False\n",
            "\"5²\"\t->False\n",
            "\"50%\"\t->False\n"
          ]
        }
      ]
    },
    {
      "cell_type": "code",
      "source": [
        "for number in numbers:\n",
        "  print(f'\"{number}\"\\t->{number.isdigit()}')"
      ],
      "metadata": {
        "colab": {
          "base_uri": "https://localhost:8080/"
        },
        "id": "Y4yjZsPsHHk-",
        "outputId": "0824f7a2-2732-49e1-fcd5-7ff7de8c652a"
      },
      "execution_count": 44,
      "outputs": [
        {
          "output_type": "stream",
          "name": "stdout",
          "text": [
            "\"1004\"\t->True\n",
            "\"-1\"\t->False\n",
            "\"3.14\"\t->False\n",
            "\"Ⅸ\"\t->False\n",
            "\"⅞\"\t->False\n",
            "\"5²\"\t->True\n",
            "\"50%\"\t->False\n"
          ]
        }
      ]
    }
  ]
}