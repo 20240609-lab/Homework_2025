{
  "nbformat": 4,
  "nbformat_minor": 0,
  "metadata": {
    "colab": {
      "provenance": [],
      "authorship_tag": "ABX9TyP9sWYhiORdnkdoolU6WSKp",
      "include_colab_link": true
    },
    "kernelspec": {
      "name": "python3",
      "display_name": "Python 3"
    },
    "language_info": {
      "name": "python"
    }
  },
  "cells": [
    {
      "cell_type": "markdown",
      "metadata": {
        "id": "view-in-github",
        "colab_type": "text"
      },
      "source": [
        "<a href=\"https://colab.research.google.com/github/20240609-lab/Homework_2025/blob/main/54enumerate().ipynb\" target=\"_parent\"><img src=\"https://colab.research.google.com/assets/colab-badge.svg\" alt=\"Open In Colab\"/></a>"
      ]
    },
    {
      "cell_type": "code",
      "source": [
        "solarsys = ['태양','수성','금성','지구','화성','목성','토성','천왕성','해왕성']\n",
        "for i, body in enumerate(solarsys):\n",
        "    print(f'태양계의 {i}번째 천체 : {body}')"
      ],
      "metadata": {
        "colab": {
          "base_uri": "https://localhost:8080/"
        },
        "id": "3CrQ-bi0zlEG",
        "outputId": "da609841-064c-4ec7-b5f3-31ee84c8a371"
      },
      "execution_count": 20,
      "outputs": [
        {
          "output_type": "stream",
          "name": "stdout",
          "text": [
            "태양계의 0번째 천체 : 태양\n",
            "태양계의 1번째 천체 : 수성\n",
            "태양계의 2번째 천체 : 금성\n",
            "태양계의 3번째 천체 : 지구\n",
            "태양계의 4번째 천체 : 화성\n",
            "태양계의 5번째 천체 : 목성\n",
            "태양계의 6번째 천체 : 토성\n",
            "태양계의 7번째 천체 : 천왕성\n",
            "태양계의 8번째 천체 : 해왕성\n"
          ]
        }
      ]
    },
    {
      "cell_type": "code",
      "source": [
        "seasons = ['봄','여름','가을','겨울']\n",
        "print(list(enumerate(seasons, start=1)))"
      ],
      "metadata": {
        "colab": {
          "base_uri": "https://localhost:8080/"
        },
        "id": "tI_gtJjcz3hg",
        "outputId": "9a3854a9-e827-4fad-8d0c-a17aef20ea96"
      },
      "execution_count": 21,
      "outputs": [
        {
          "output_type": "stream",
          "name": "stdout",
          "text": [
            "[(1, '봄'), (2, '여름'), (3, '가을'), (4, '겨울')]\n"
          ]
        }
      ]
    },
    {
      "cell_type": "code",
      "source": [
        "def myEnumerate(iterable, start=0):\n",
        "  n = start\n",
        "  for item in iterable:\n",
        "    yield(n,item)\n",
        "    n += 1"
      ],
      "metadata": {
        "id": "BO7hlr5B0ENg"
      },
      "execution_count": 22,
      "outputs": []
    },
    {
      "cell_type": "code",
      "source": [
        "print(list(myEnumerate(seasons, start = 1)))"
      ],
      "metadata": {
        "colab": {
          "base_uri": "https://localhost:8080/"
        },
        "id": "Y4XBcDXY0QjQ",
        "outputId": "210e5bd2-12c7-4850-85bf-4141b3fbbca0"
      },
      "execution_count": 23,
      "outputs": [
        {
          "output_type": "stream",
          "name": "stdout",
          "text": [
            "[(1, '봄'), (2, '여름'), (3, '가을'), (4, '겨울')]\n"
          ]
        }
      ]
    }
  ]
}